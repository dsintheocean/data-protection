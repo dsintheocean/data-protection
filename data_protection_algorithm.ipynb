{
 "cells": [
  {
   "attachments": {},
   "cell_type": "markdown",
   "metadata": {},
   "source": [
    "# Защита персональных данных клиентов"
   ]
  },
  {
   "attachments": {},
   "cell_type": "markdown",
   "metadata": {},
   "source": [
    "Необходимо защитить данные клиентов страховой компании. Задача - разработать такой метод преобразования данных, чтобы по ним было сложно восстановить персональную информацию.\n",
    "Нужно защитить данные, чтобы при преобразовании качество моделей машинного обучения не ухудшилось."
   ]
  },
  {
   "attachments": {},
   "cell_type": "markdown",
   "metadata": {},
   "source": [
    "## Загрузка данных"
   ]
  },
  {
   "attachments": {},
   "cell_type": "markdown",
   "metadata": {},
   "source": [
    "**Проверим данные на наличие пропусков и аномалий.**"
   ]
  },
  {
   "cell_type": "code",
   "execution_count": 1,
   "metadata": {},
   "outputs": [],
   "source": [
    "import pandas as pd\n",
    "import numpy as np\n",
    "from sklearn.metrics import r2_score\n",
    "from sklearn.linear_model import LinearRegression"
   ]
  },
  {
   "cell_type": "code",
   "execution_count": 2,
   "metadata": {},
   "outputs": [
    {
     "data": {
      "text/html": [
       "<div>\n",
       "<style scoped>\n",
       "    .dataframe tbody tr th:only-of-type {\n",
       "        vertical-align: middle;\n",
       "    }\n",
       "\n",
       "    .dataframe tbody tr th {\n",
       "        vertical-align: top;\n",
       "    }\n",
       "\n",
       "    .dataframe thead th {\n",
       "        text-align: right;\n",
       "    }\n",
       "</style>\n",
       "<table border=\"1\" class=\"dataframe\">\n",
       "  <thead>\n",
       "    <tr style=\"text-align: right;\">\n",
       "      <th></th>\n",
       "      <th>Пол</th>\n",
       "      <th>Возраст</th>\n",
       "      <th>Зарплата</th>\n",
       "      <th>Члены семьи</th>\n",
       "      <th>Страховые выплаты</th>\n",
       "    </tr>\n",
       "  </thead>\n",
       "  <tbody>\n",
       "    <tr>\n",
       "      <th>0</th>\n",
       "      <td>1</td>\n",
       "      <td>41.0</td>\n",
       "      <td>49600.0</td>\n",
       "      <td>1</td>\n",
       "      <td>0</td>\n",
       "    </tr>\n",
       "    <tr>\n",
       "      <th>1</th>\n",
       "      <td>0</td>\n",
       "      <td>46.0</td>\n",
       "      <td>38000.0</td>\n",
       "      <td>1</td>\n",
       "      <td>1</td>\n",
       "    </tr>\n",
       "    <tr>\n",
       "      <th>2</th>\n",
       "      <td>0</td>\n",
       "      <td>29.0</td>\n",
       "      <td>21000.0</td>\n",
       "      <td>0</td>\n",
       "      <td>0</td>\n",
       "    </tr>\n",
       "    <tr>\n",
       "      <th>3</th>\n",
       "      <td>0</td>\n",
       "      <td>21.0</td>\n",
       "      <td>41700.0</td>\n",
       "      <td>2</td>\n",
       "      <td>0</td>\n",
       "    </tr>\n",
       "    <tr>\n",
       "      <th>4</th>\n",
       "      <td>1</td>\n",
       "      <td>28.0</td>\n",
       "      <td>26100.0</td>\n",
       "      <td>0</td>\n",
       "      <td>0</td>\n",
       "    </tr>\n",
       "  </tbody>\n",
       "</table>\n",
       "</div>"
      ],
      "text/plain": [
       "   Пол  Возраст  Зарплата  Члены семьи  Страховые выплаты\n",
       "0    1     41.0   49600.0            1                  0\n",
       "1    0     46.0   38000.0            1                  1\n",
       "2    0     29.0   21000.0            0                  0\n",
       "3    0     21.0   41700.0            2                  0\n",
       "4    1     28.0   26100.0            0                  0"
      ]
     },
     "metadata": {},
     "output_type": "display_data"
    },
    {
     "name": "stdout",
     "output_type": "stream",
     "text": [
      "<class 'pandas.core.frame.DataFrame'>\n",
      "RangeIndex: 5000 entries, 0 to 4999\n",
      "Data columns (total 5 columns):\n",
      " #   Column             Non-Null Count  Dtype  \n",
      "---  ------             --------------  -----  \n",
      " 0   Пол                5000 non-null   int64  \n",
      " 1   Возраст            5000 non-null   float64\n",
      " 2   Зарплата           5000 non-null   float64\n",
      " 3   Члены семьи        5000 non-null   int64  \n",
      " 4   Страховые выплаты  5000 non-null   int64  \n",
      "dtypes: float64(2), int64(3)\n",
      "memory usage: 195.4 KB\n"
     ]
    },
    {
     "data": {
      "text/plain": [
       "None"
      ]
     },
     "metadata": {},
     "output_type": "display_data"
    },
    {
     "data": {
      "text/html": [
       "<div>\n",
       "<style scoped>\n",
       "    .dataframe tbody tr th:only-of-type {\n",
       "        vertical-align: middle;\n",
       "    }\n",
       "\n",
       "    .dataframe tbody tr th {\n",
       "        vertical-align: top;\n",
       "    }\n",
       "\n",
       "    .dataframe thead th {\n",
       "        text-align: right;\n",
       "    }\n",
       "</style>\n",
       "<table border=\"1\" class=\"dataframe\">\n",
       "  <thead>\n",
       "    <tr style=\"text-align: right;\">\n",
       "      <th></th>\n",
       "      <th>Пол</th>\n",
       "      <th>Возраст</th>\n",
       "      <th>Зарплата</th>\n",
       "      <th>Члены семьи</th>\n",
       "      <th>Страховые выплаты</th>\n",
       "    </tr>\n",
       "  </thead>\n",
       "  <tbody>\n",
       "    <tr>\n",
       "      <th>count</th>\n",
       "      <td>5000.000000</td>\n",
       "      <td>5000.000000</td>\n",
       "      <td>5000.000000</td>\n",
       "      <td>5000.000000</td>\n",
       "      <td>5000.000000</td>\n",
       "    </tr>\n",
       "    <tr>\n",
       "      <th>mean</th>\n",
       "      <td>0.499000</td>\n",
       "      <td>30.952800</td>\n",
       "      <td>39916.360000</td>\n",
       "      <td>1.194200</td>\n",
       "      <td>0.148000</td>\n",
       "    </tr>\n",
       "    <tr>\n",
       "      <th>std</th>\n",
       "      <td>0.500049</td>\n",
       "      <td>8.440807</td>\n",
       "      <td>9900.083569</td>\n",
       "      <td>1.091387</td>\n",
       "      <td>0.463183</td>\n",
       "    </tr>\n",
       "    <tr>\n",
       "      <th>min</th>\n",
       "      <td>0.000000</td>\n",
       "      <td>18.000000</td>\n",
       "      <td>5300.000000</td>\n",
       "      <td>0.000000</td>\n",
       "      <td>0.000000</td>\n",
       "    </tr>\n",
       "    <tr>\n",
       "      <th>25%</th>\n",
       "      <td>0.000000</td>\n",
       "      <td>24.000000</td>\n",
       "      <td>33300.000000</td>\n",
       "      <td>0.000000</td>\n",
       "      <td>0.000000</td>\n",
       "    </tr>\n",
       "    <tr>\n",
       "      <th>50%</th>\n",
       "      <td>0.000000</td>\n",
       "      <td>30.000000</td>\n",
       "      <td>40200.000000</td>\n",
       "      <td>1.000000</td>\n",
       "      <td>0.000000</td>\n",
       "    </tr>\n",
       "    <tr>\n",
       "      <th>75%</th>\n",
       "      <td>1.000000</td>\n",
       "      <td>37.000000</td>\n",
       "      <td>46600.000000</td>\n",
       "      <td>2.000000</td>\n",
       "      <td>0.000000</td>\n",
       "    </tr>\n",
       "    <tr>\n",
       "      <th>max</th>\n",
       "      <td>1.000000</td>\n",
       "      <td>65.000000</td>\n",
       "      <td>79000.000000</td>\n",
       "      <td>6.000000</td>\n",
       "      <td>5.000000</td>\n",
       "    </tr>\n",
       "  </tbody>\n",
       "</table>\n",
       "</div>"
      ],
      "text/plain": [
       "               Пол      Возраст      Зарплата  Члены семьи  Страховые выплаты\n",
       "count  5000.000000  5000.000000   5000.000000  5000.000000        5000.000000\n",
       "mean      0.499000    30.952800  39916.360000     1.194200           0.148000\n",
       "std       0.500049     8.440807   9900.083569     1.091387           0.463183\n",
       "min       0.000000    18.000000   5300.000000     0.000000           0.000000\n",
       "25%       0.000000    24.000000  33300.000000     0.000000           0.000000\n",
       "50%       0.000000    30.000000  40200.000000     1.000000           0.000000\n",
       "75%       1.000000    37.000000  46600.000000     2.000000           0.000000\n",
       "max       1.000000    65.000000  79000.000000     6.000000           5.000000"
      ]
     },
     "metadata": {},
     "output_type": "display_data"
    },
    {
     "name": "stdout",
     "output_type": "stream",
     "text": [
      "кол-во строк дубликатов = 153\n"
     ]
    },
    {
     "data": {
      "text/html": [
       "<div>\n",
       "<style scoped>\n",
       "    .dataframe tbody tr th:only-of-type {\n",
       "        vertical-align: middle;\n",
       "    }\n",
       "\n",
       "    .dataframe tbody tr th {\n",
       "        vertical-align: top;\n",
       "    }\n",
       "\n",
       "    .dataframe thead th {\n",
       "        text-align: right;\n",
       "    }\n",
       "</style>\n",
       "<table border=\"1\" class=\"dataframe\">\n",
       "  <thead>\n",
       "    <tr style=\"text-align: right;\">\n",
       "      <th></th>\n",
       "      <th>Пол</th>\n",
       "      <th>Возраст</th>\n",
       "      <th>Зарплата</th>\n",
       "      <th>Члены семьи</th>\n",
       "      <th>Страховые выплаты</th>\n",
       "    </tr>\n",
       "  </thead>\n",
       "  <tbody>\n",
       "    <tr>\n",
       "      <th>Пол</th>\n",
       "      <td>1.000000</td>\n",
       "      <td>0.002074</td>\n",
       "      <td>0.014910</td>\n",
       "      <td>-0.008991</td>\n",
       "      <td>0.010140</td>\n",
       "    </tr>\n",
       "    <tr>\n",
       "      <th>Возраст</th>\n",
       "      <td>0.002074</td>\n",
       "      <td>1.000000</td>\n",
       "      <td>-0.019093</td>\n",
       "      <td>-0.006692</td>\n",
       "      <td>0.651030</td>\n",
       "    </tr>\n",
       "    <tr>\n",
       "      <th>Зарплата</th>\n",
       "      <td>0.014910</td>\n",
       "      <td>-0.019093</td>\n",
       "      <td>1.000000</td>\n",
       "      <td>-0.030296</td>\n",
       "      <td>-0.014963</td>\n",
       "    </tr>\n",
       "    <tr>\n",
       "      <th>Члены семьи</th>\n",
       "      <td>-0.008991</td>\n",
       "      <td>-0.006692</td>\n",
       "      <td>-0.030296</td>\n",
       "      <td>1.000000</td>\n",
       "      <td>-0.036290</td>\n",
       "    </tr>\n",
       "    <tr>\n",
       "      <th>Страховые выплаты</th>\n",
       "      <td>0.010140</td>\n",
       "      <td>0.651030</td>\n",
       "      <td>-0.014963</td>\n",
       "      <td>-0.036290</td>\n",
       "      <td>1.000000</td>\n",
       "    </tr>\n",
       "  </tbody>\n",
       "</table>\n",
       "</div>"
      ],
      "text/plain": [
       "                        Пол   Возраст  Зарплата  Члены семьи  \\\n",
       "Пол                1.000000  0.002074  0.014910    -0.008991   \n",
       "Возраст            0.002074  1.000000 -0.019093    -0.006692   \n",
       "Зарплата           0.014910 -0.019093  1.000000    -0.030296   \n",
       "Члены семьи       -0.008991 -0.006692 -0.030296     1.000000   \n",
       "Страховые выплаты  0.010140  0.651030 -0.014963    -0.036290   \n",
       "\n",
       "                   Страховые выплаты  \n",
       "Пол                         0.010140  \n",
       "Возраст                     0.651030  \n",
       "Зарплата                   -0.014963  \n",
       "Члены семьи                -0.036290  \n",
       "Страховые выплаты           1.000000  "
      ]
     },
     "execution_count": 2,
     "metadata": {},
     "output_type": "execute_result"
    }
   ],
   "source": [
    "data = pd.read_csv('/datasets/insurance.csv')\n",
    "display(data.head())\n",
    "display(data.info())\n",
    "display(data.describe())\n",
    "print('кол-во строк дубликатов =', data.duplicated().sum())\n",
    "data.corr()"
   ]
  },
  {
   "attachments": {},
   "cell_type": "markdown",
   "metadata": {},
   "source": [
    "**Обнаружено в данных 3% дубликатов от общего количества данных. И положительная сильная корреляция между признаком `Возраст` и целевым признаком `Страховые выплаты`. Удалим дубликаты ниже.**"
   ]
  },
  {
   "cell_type": "code",
   "execution_count": 3,
   "metadata": {},
   "outputs": [
    {
     "name": "stdout",
     "output_type": "stream",
     "text": [
      "кол-во строк дубликатов = 0\n"
     ]
    }
   ],
   "source": [
    "data = data.drop_duplicates()\n",
    "print('кол-во строк дубликатов =', data.duplicated().sum())"
   ]
  },
  {
   "attachments": {},
   "cell_type": "markdown",
   "metadata": {},
   "source": [
    "**Признаки: пол, возраст и зарплата застрахованного, количество членов его семьи.**\n",
    "\n",
    "**Целевой признак: количество страховых выплат клиенту за последние 5 лет.**"
   ]
  },
  {
   "attachments": {},
   "cell_type": "markdown",
   "metadata": {},
   "source": [
    "**Также видим, что тип признаков `Возраст` и `Зарплата` float, хотя для данных признаков более подходящим будет целочисленный тип, приведем данные признаки к целочисленному типу.**\n",
    "\n",
    "**Для удобства дальнейшей работы переведем названия признаков на английский язык и используем \"змеиный регистр\".**"
   ]
  },
  {
   "cell_type": "code",
   "execution_count": 4,
   "metadata": {},
   "outputs": [
    {
     "name": "stdout",
     "output_type": "stream",
     "text": [
      "<class 'pandas.core.frame.DataFrame'>\n",
      "Int64Index: 4847 entries, 0 to 4999\n",
      "Data columns (total 5 columns):\n",
      " #   Column           Non-Null Count  Dtype\n",
      "---  ------           --------------  -----\n",
      " 0   gender           4847 non-null   int64\n",
      " 1   age              4847 non-null   int64\n",
      " 2   salary           4847 non-null   int64\n",
      " 3   family_members   4847 non-null   int64\n",
      " 4   insurance_claim  4847 non-null   int64\n",
      "dtypes: int64(5)\n",
      "memory usage: 227.2 KB\n"
     ]
    },
    {
     "data": {
      "text/plain": [
       "None"
      ]
     },
     "metadata": {},
     "output_type": "display_data"
    }
   ],
   "source": [
    "data.columns = ['gender', 'age', 'salary', 'family_members', 'insurance_claim']\n",
    "data = data.astype(int)\n",
    "display(data.info())"
   ]
  },
  {
   "attachments": {},
   "cell_type": "markdown",
   "metadata": {},
   "source": [
    "**Выводы раздела 1.**\n",
    "\n",
    "**В данных было обнаружено 3% дубликатов, дубликаты были удалены.**\n",
    "\n",
    "**В данных положительная сильная корреляция между признаком `Возраст` и целевым признаком `Страховые выплаты`.**\n",
    "\n",
    "**Пропуски в данных отсутствуют.**\n",
    "\n",
    "**Типы данных всех признаков приведены к целочисленному.**\n",
    "\n",
    "**Названия признаков, включая целевой, приведены к змеиному регистру и англ. наименованиям.**"
   ]
  },
  {
   "attachments": {},
   "cell_type": "markdown",
   "metadata": {},
   "source": [
    "## Умножение матриц"
   ]
  },
  {
   "attachments": {},
   "cell_type": "markdown",
   "metadata": {},
   "source": [
    "Обозначения:\n",
    "\n",
    "- $X$ — матрица признаков (нулевой столбец состоит из единиц)\n",
    "\n",
    "- $y$ — вектор целевого признака\n",
    "\n",
    "- $P$ — матрица, на которую умножаются признаки\n",
    "\n",
    "- $w$ — вектор весов линейной регрессии (нулевой элемент равен сдвигу)"
   ]
  },
  {
   "attachments": {},
   "cell_type": "markdown",
   "metadata": {},
   "source": [
    "Предсказания:\n",
    "\n",
    "$$\n",
    "a = Xw\n",
    "$$\n",
    "\n",
    "Задача обучения:\n",
    "\n",
    "$$\n",
    "w = \\arg\\min_w MSE(Xw, y)\n",
    "$$\n",
    "\n",
    "Формула обучения:\n",
    "\n",
    "$$\n",
    "w = (X^T X)^{-1} X^T y\n",
    "$$"
   ]
  },
  {
   "attachments": {},
   "cell_type": "markdown",
   "metadata": {},
   "source": [
    "**Признаки умножают на обратимую матрицу. Определим, изменится ли качество линейной регрессии (её можно обучить заново).**"
   ]
  },
  {
   "attachments": {},
   "cell_type": "markdown",
   "metadata": {},
   "source": [
    "$$\n",
    "w = (X^T X)^{-1} X^T y\n",
    "$$"
   ]
  },
  {
   "attachments": {},
   "cell_type": "markdown",
   "metadata": {},
   "source": [
    "**Качество линейной регрессии не изменится.**\n",
    "\n",
    "**Обоснование:**\n",
    "\n",
    "Т.к. указано, что мы умножаем признаки на обратимую матрицу, то исходя из критерия обратимости матриц можно сделать вывод, что умножение происходит на квадратную матрицу.\n",
    "\n",
    "Второй факт:операция умножения двух матриц выполнима только в том случае, если число столбцов в первом сомножителе равно числу строк во втором; в этом случае говорят, что матрицы согласованы. Значит в нашем случае мы можем допускать умножение признаков только на квадратную матрицу, у которой высота и ширина равны ширине (количеству признаков) в матрице признаков.\n",
    "\n",
    "**Исходная формула обучения (вектор весов) и предсказаний:**\n",
    "\n",
    "$$\n",
    "w = (X^T X)^{-1} X^T y\n",
    "$$\n",
    "\n",
    "$$\n",
    "a = X w\n",
    "$$\n",
    "\n",
    "**Рассмотрим, что будет происходить в формуле обучения при умножении матрицы признаков на квадратную матрицу P:**\n",
    "$$\n",
    "w_p = (X_p^T X_p)^{-1} X_p^T y\n",
    "$$\n",
    "\n",
    "**Где:**  $ X_p = X P $\n",
    "\n",
    "$$\n",
    "w_p = ((X P)^T  (X P))^{-1} (X P)^T y\n",
    "$$\n",
    "\n",
    "**Раскроем скобки выражения выше по правилам преобразования с матрицами, получим:**\n",
    "$$\n",
    "w_p = (P^T X^T X P)^{-1} (P^T X^T) y\n",
    "$$\n",
    "\n",
    "**Сгруппируем в выражении выше скобками группы произведений матриц и отдельных матриц, получим:**\n",
    "$$\n",
    "w_p = ((P^T) (X^T X) (P))^{-1} P^T X^T y\n",
    "$$\n",
    "\n",
    "**Раскроем скобки, которые стоят под \"степенью\" (-1) в выражении выше, по правилам преобразования с матрицами, получим:**\n",
    "$$\n",
    "w_p = P^{-1} (X^T X)^{-1} (P^T)^{-1} P^T X^T y\n",
    "$$\n",
    "\n",
    "**Произведение транспонированной матрицы P на обратную транспонированной согласно свойстам матриц дает единичную матрицу E, умножая на которую другую матрицу, мы получаем аналогичную ей. Поэтому можно это просто сократить, получим следующее:**\n",
    "$$\n",
    "w_p = P^{-1} (X^T X)^{-1} X^T y\n",
    "$$\n",
    "\n",
    "**Теперь запишем формулу для нахождения $а_p$ - предсказаний целевого признака:**\n",
    "$$\n",
    "a_p = X_p w_p\n",
    "$$\n",
    "\n",
    "**Подставим в данную формулу найденное выше выражение для $w_p$, получим:**\n",
    "$$\n",
    "a_p = (X P) (P^{-1} (X^T X)^{-1} X^T y)\n",
    "$$\n",
    "\n",
    "**Раскроем скобки в выражении выше, получим:**\n",
    "$$\n",
    "a_p = X P P^{-1} (X^T X)^{-1} X^T y\n",
    "$$\n",
    "\n",
    "**Произведение матрицы P на обратную согласно свойстам матриц дает единичную матрицу E, умножая на которую другую матрицу, мы получаем аналогичную ей. Поэтому можно это просто сократить, получим следующее:**\n",
    "$$\n",
    "a_p = X (X^T X)^{-1} X^T y = X w = a\n",
    "$$\n",
    "\n",
    "**Итого получили:**\n",
    "$$\n",
    "a_p = a\n",
    "$$\n",
    "\n",
    "**Что доказывает, что предсказания будут аналогичными в случае умножения признаков на обратимую матрицу. ЧТД.**"
   ]
  },
  {
   "attachments": {},
   "cell_type": "markdown",
   "metadata": {},
   "source": [
    "## Алгоритм преобразования"
   ]
  },
  {
   "attachments": {},
   "cell_type": "markdown",
   "metadata": {},
   "source": [
    "**Алгоритм**\n",
    "\n",
    "Исходя из доказательства выше, домножая признаки на обратимую матрицу, мы не ухудшаем качество линейной регрессии.\n",
    "\n",
    "Критерий обратимости: матрица обратима тогда и только тогда, когда она невырождена, то есть её определитель не равен нулю. Для неквадратных матриц и вырожденных матриц обратных матриц не существует.\n",
    "\n",
    "Соответственно, необходимо сгенерировать такую квадратную матрицу, размерность которой совпадает с количеством признаков в исходных данных и определитель которой не равен 0. При этом сгенерированная матрица не должна быть единичной, иначе при умножении на нее исходной матрицы признаков мы получим ту же матрицу и преобразование данных не произойдет, задача защиты данных будет не провалена.\n",
    "\n",
    "Структурированно алгоритм можно записать следующим образом:\n",
    "1. Сгенерировать случайную квадратную матрицу размером M x M, где M это количество признаков в исходном датасете.\n",
    "2. Проверить сгенерированную матрицу на обратимость, сравнив ее определитель с нулём.\n",
    "3. Обучим модель линейной регрессии с помощью исходной матрицы признаков.\n",
    "4. Используя обученную модель предскажем значения целевого признака на основе исходных признаков.\n",
    "5. Вычислим метрику качества R2 для данной обученной модели линейной регрессии.\n",
    "6. Умножим исходную матрицу признаков на сгенерированную матрицу, полученную матрицу назовем кодированная матрица признаков.\n",
    "7. Переобучим модель линейной регрессии с помощью кодированной матрицы признаков.\n",
    "8. Используя переобученную модель предскажем значения целевого признака на основе кодированных признаков.\n",
    "9. Вычислим метрику качества R2 для переобученной модели линейной регрессии. \n",
    "10. Сравним метрику R2 исходной модели линейной регрессии и модели, обученной на кодированных признаках."
   ]
  },
  {
   "attachments": {},
   "cell_type": "markdown",
   "metadata": {},
   "source": [
    "**Обоснование**\n",
    "\n",
    "В разделе 2 было математически доказано, что умножение матрицы признаков на обратимую матрицу не меняет предсказания и, соответственно, не ухудшает качество линейной регрессии."
   ]
  },
  {
   "attachments": {},
   "cell_type": "markdown",
   "metadata": {},
   "source": [
    "## Проверка алгоритма"
   ]
  },
  {
   "attachments": {},
   "cell_type": "markdown",
   "metadata": {},
   "source": [
    "Запрограммируем алгоритм, применив матричные операции. Далее проверим, что качество линейной регрессии из sklearn не отличается до и после преобразования. Для этого применим метрику R2."
   ]
  },
  {
   "cell_type": "code",
   "execution_count": 5,
   "metadata": {},
   "outputs": [
    {
     "name": "stdout",
     "output_type": "stream",
     "text": [
      "features.head before\n"
     ]
    },
    {
     "data": {
      "text/html": [
       "<div>\n",
       "<style scoped>\n",
       "    .dataframe tbody tr th:only-of-type {\n",
       "        vertical-align: middle;\n",
       "    }\n",
       "\n",
       "    .dataframe tbody tr th {\n",
       "        vertical-align: top;\n",
       "    }\n",
       "\n",
       "    .dataframe thead th {\n",
       "        text-align: right;\n",
       "    }\n",
       "</style>\n",
       "<table border=\"1\" class=\"dataframe\">\n",
       "  <thead>\n",
       "    <tr style=\"text-align: right;\">\n",
       "      <th></th>\n",
       "      <th>gender</th>\n",
       "      <th>age</th>\n",
       "      <th>salary</th>\n",
       "      <th>family_members</th>\n",
       "    </tr>\n",
       "  </thead>\n",
       "  <tbody>\n",
       "    <tr>\n",
       "      <th>0</th>\n",
       "      <td>1</td>\n",
       "      <td>41</td>\n",
       "      <td>49600</td>\n",
       "      <td>1</td>\n",
       "    </tr>\n",
       "    <tr>\n",
       "      <th>1</th>\n",
       "      <td>0</td>\n",
       "      <td>46</td>\n",
       "      <td>38000</td>\n",
       "      <td>1</td>\n",
       "    </tr>\n",
       "    <tr>\n",
       "      <th>2</th>\n",
       "      <td>0</td>\n",
       "      <td>29</td>\n",
       "      <td>21000</td>\n",
       "      <td>0</td>\n",
       "    </tr>\n",
       "    <tr>\n",
       "      <th>3</th>\n",
       "      <td>0</td>\n",
       "      <td>21</td>\n",
       "      <td>41700</td>\n",
       "      <td>2</td>\n",
       "    </tr>\n",
       "    <tr>\n",
       "      <th>4</th>\n",
       "      <td>1</td>\n",
       "      <td>28</td>\n",
       "      <td>26100</td>\n",
       "      <td>0</td>\n",
       "    </tr>\n",
       "  </tbody>\n",
       "</table>\n",
       "</div>"
      ],
      "text/plain": [
       "   gender  age  salary  family_members\n",
       "0       1   41   49600               1\n",
       "1       0   46   38000               1\n",
       "2       0   29   21000               0\n",
       "3       0   21   41700               2\n",
       "4       1   28   26100               0"
      ]
     },
     "metadata": {},
     "output_type": "display_data"
    },
    {
     "name": "stdout",
     "output_type": "stream",
     "text": [
      "R2 score before encryption = 0.4302010046633359\n",
      "\n",
      "\n",
      "\n",
      "encryption matrix\n",
      "[[0.26130595 0.65787401 0.29584038 0.76437669]\n",
      " [0.84355721 0.28586644 0.30151503 0.79294882]\n",
      " [0.19892611 0.5234803  0.79208387 0.71328965]\n",
      " [0.40760029 0.73508471 0.72627317 0.40646642]]\n",
      "\n",
      "\n",
      "\n",
      "features.head after encryption\n"
     ]
    },
    {
     "data": {
      "text/html": [
       "<div>\n",
       "<style scoped>\n",
       "    .dataframe tbody tr th:only-of-type {\n",
       "        vertical-align: middle;\n",
       "    }\n",
       "\n",
       "    .dataframe tbody tr th {\n",
       "        vertical-align: top;\n",
       "    }\n",
       "\n",
       "    .dataframe thead th {\n",
       "        text-align: right;\n",
       "    }\n",
       "</style>\n",
       "<table border=\"1\" class=\"dataframe\">\n",
       "  <thead>\n",
       "    <tr style=\"text-align: right;\">\n",
       "      <th></th>\n",
       "      <th>gender</th>\n",
       "      <th>age</th>\n",
       "      <th>salary</th>\n",
       "      <th>family_members</th>\n",
       "    </tr>\n",
       "  </thead>\n",
       "  <tbody>\n",
       "    <tr>\n",
       "      <th>0</th>\n",
       "      <td>9901.989821</td>\n",
       "      <td>25977.736450</td>\n",
       "      <td>39300.744049</td>\n",
       "      <td>35412.848431</td>\n",
       "    </tr>\n",
       "    <tr>\n",
       "      <th>1</th>\n",
       "      <td>7598.403422</td>\n",
       "      <td>19906.136408</td>\n",
       "      <td>30113.782923</td>\n",
       "      <td>27141.888848</td>\n",
       "    </tr>\n",
       "    <tr>\n",
       "      <th>2</th>\n",
       "      <td>4201.911475</td>\n",
       "      <td>11001.376464</td>\n",
       "      <td>16642.505150</td>\n",
       "      <td>15002.078186</td>\n",
       "    </tr>\n",
       "    <tr>\n",
       "      <th>3</th>\n",
       "      <td>8313.748700</td>\n",
       "      <td>21836.601948</td>\n",
       "      <td>33037.681629</td>\n",
       "      <td>29761.643302</td>\n",
       "    </tr>\n",
       "    <tr>\n",
       "      <th>4</th>\n",
       "      <td>5215.852386</td>\n",
       "      <td>13671.498010</td>\n",
       "      <td>20682.127198</td>\n",
       "      <td>18639.826833</td>\n",
       "    </tr>\n",
       "  </tbody>\n",
       "</table>\n",
       "</div>"
      ],
      "text/plain": [
       "        gender           age        salary  family_members\n",
       "0  9901.989821  25977.736450  39300.744049    35412.848431\n",
       "1  7598.403422  19906.136408  30113.782923    27141.888848\n",
       "2  4201.911475  11001.376464  16642.505150    15002.078186\n",
       "3  8313.748700  21836.601948  33037.681629    29761.643302\n",
       "4  5215.852386  13671.498010  20682.127198    18639.826833"
      ]
     },
     "metadata": {},
     "output_type": "display_data"
    },
    {
     "name": "stdout",
     "output_type": "stream",
     "text": [
      "R2 score after encryption = 0.43020100466333566\n",
      "\n",
      "\n",
      "\n",
      "r2_score difference: -2.220446049250313e-16\n"
     ]
    }
   ],
   "source": [
    "features = data.drop('insurance_claim', axis=1)\n",
    "print('features.head before')\n",
    "display(features.head())\n",
    "target = data['insurance_claim']\n",
    "model = LinearRegression()\n",
    "model.fit(features, target)\n",
    "predictions_before = model.predict(features)\n",
    "score_before = r2_score(target, predictions_before)\n",
    "print(f'R2 score before encryption = {score_before}')\n",
    "\n",
    "singular = lambda m: np.linalg.det(m) == 0 #check if the matrix determinant = 0\n",
    "P = np.random.random([features.shape[1],features.shape[1]]) #create square matrix with random elements from [0;1)\n",
    "if not singular(P):\n",
    "    features_encrypted = features.to_numpy() @ P # multiply initial features with the square random matrix\n",
    "    print('\\n\\n\\nencryption matrix')\n",
    "    print(P)\n",
    "    print('\\n\\n\\nfeatures.head after encryption')\n",
    "    display(pd.DataFrame(features_encrypted, columns = features.columns).head())\n",
    "    model.fit(features_encrypted, target)\n",
    "    predictions_after = model.predict(features_encrypted)\n",
    "    score_after = r2_score(target, predictions_after)\n",
    "    print(f'R2 score after encryption = {score_after}')\n",
    "    print('\\n\\n\\nr2_score difference:', score_after - score_before)"
   ]
  },
  {
   "attachments": {},
   "cell_type": "markdown",
   "metadata": {},
   "source": [
    "**Полученный результат в разности двух метрик качества близкий к нулю доказывает, что данный алгоритм шифрования работает корректно и не ухудшает качество линейной регрессии.**"
   ]
  },
  {
   "attachments": {},
   "cell_type": "markdown",
   "metadata": {},
   "source": [
    "## Вывод"
   ]
  },
  {
   "attachments": {},
   "cell_type": "markdown",
   "metadata": {},
   "source": [
    "**Исходный датасет состоял из 4 признаков и 1 целевого признака. Было удалено 3% от всех данных дубликатов, изменен тип всех признаков на целочисленный, приведены названия всех признаков к змеиному регистру и к английской версии для простоты дальнейшей работы.**\n",
    "\n",
    "**Было доказано математически, что умножение матрицы исходных признаков на обратимую матрицу не ухудшает качество модели линейной регрессии, при этом таким образом можно закодировать первоначальные значения признаков, т.к. они являются конфиденциальной информацией.**\n",
    "\n",
    "**Далее на практике с помощью кода был продемонстрирован пример того, как при умножении исходной матрицы признаков на случайную обратимую матрицу мы получили одинаковое значение метрики R2 линейной регрессии, переобученной на данных закодированных признаках. Было показано, что указанный метод шифрования не ухудшает качество линейной регрессии - значение метрик R2 было аналогичным как для модели, обученной на исходных признаках, так и для модели, обученной на кодированных признаках - и, соответственно данный метод шифрования данных может быть использован в работе.**"
   ]
  }
 ],
 "metadata": {
  "ExecuteTimeLog": [
   {
    "duration": 1218,
    "start_time": "2023-02-19T14:38:44.009Z"
   },
   {
    "duration": 1316,
    "start_time": "2023-02-20T10:25:15.637Z"
   },
   {
    "duration": 997,
    "start_time": "2023-02-20T10:25:31.285Z"
   },
   {
    "duration": 35,
    "start_time": "2023-02-20T10:26:07.838Z"
   },
   {
    "duration": 57,
    "start_time": "2023-02-20T10:26:50.123Z"
   },
   {
    "duration": 52,
    "start_time": "2023-02-20T10:27:26.914Z"
   },
   {
    "duration": 5,
    "start_time": "2023-02-20T10:40:52.812Z"
   },
   {
    "duration": 16,
    "start_time": "2023-02-20T10:41:00.458Z"
   },
   {
    "duration": 13,
    "start_time": "2023-02-20T10:41:04.903Z"
   },
   {
    "duration": 10,
    "start_time": "2023-02-20T10:42:11.608Z"
   },
   {
    "duration": 15,
    "start_time": "2023-02-20T10:42:20.776Z"
   },
   {
    "duration": 59,
    "start_time": "2023-02-20T10:42:31.961Z"
   },
   {
    "duration": 9,
    "start_time": "2023-02-20T10:42:36.638Z"
   },
   {
    "duration": 8,
    "start_time": "2023-02-20T10:42:57.137Z"
   },
   {
    "duration": 14,
    "start_time": "2023-02-20T10:43:07.830Z"
   },
   {
    "duration": 70,
    "start_time": "2023-02-20T10:44:55.754Z"
   },
   {
    "duration": 10,
    "start_time": "2023-02-20T10:45:04.087Z"
   },
   {
    "duration": 15,
    "start_time": "2023-02-20T10:47:09.537Z"
   },
   {
    "duration": 16,
    "start_time": "2023-02-20T10:48:01.706Z"
   },
   {
    "duration": 14,
    "start_time": "2023-02-20T10:48:20.805Z"
   },
   {
    "duration": 21,
    "start_time": "2023-02-20T10:49:12.313Z"
   },
   {
    "duration": 18,
    "start_time": "2023-02-20T10:49:29.327Z"
   },
   {
    "duration": 23,
    "start_time": "2023-02-20T10:50:02.381Z"
   },
   {
    "duration": 15,
    "start_time": "2023-02-20T10:50:15.973Z"
   },
   {
    "duration": 100,
    "start_time": "2023-02-20T10:52:47.955Z"
   },
   {
    "duration": 13,
    "start_time": "2023-02-20T10:52:54.790Z"
   },
   {
    "duration": 14,
    "start_time": "2023-02-20T10:53:14.421Z"
   },
   {
    "duration": 20,
    "start_time": "2023-02-20T10:53:21.908Z"
   },
   {
    "duration": 15,
    "start_time": "2023-02-20T10:55:48.378Z"
   },
   {
    "duration": 12,
    "start_time": "2023-02-20T10:57:47.231Z"
   },
   {
    "duration": 6,
    "start_time": "2023-02-20T11:00:12.373Z"
   },
   {
    "duration": 6,
    "start_time": "2023-02-20T11:00:50.188Z"
   },
   {
    "duration": 86,
    "start_time": "2023-02-20T11:03:14.180Z"
   },
   {
    "duration": 23,
    "start_time": "2023-02-20T11:03:17.152Z"
   },
   {
    "duration": 6,
    "start_time": "2023-02-20T11:03:21.802Z"
   },
   {
    "duration": 79,
    "start_time": "2023-02-23T20:49:23.106Z"
   },
   {
    "duration": 1571,
    "start_time": "2023-02-23T20:49:26.973Z"
   },
   {
    "duration": 21,
    "start_time": "2023-02-23T20:49:34.794Z"
   },
   {
    "duration": 1354,
    "start_time": "2023-02-27T09:13:05.863Z"
   },
   {
    "duration": 12,
    "start_time": "2023-02-27T09:13:22.013Z"
   },
   {
    "duration": 1411,
    "start_time": "2023-03-15T13:24:52.269Z"
   },
   {
    "duration": 20,
    "start_time": "2023-03-15T13:24:59.476Z"
   },
   {
    "duration": 14,
    "start_time": "2023-03-15T13:31:09.392Z"
   },
   {
    "duration": 17,
    "start_time": "2023-03-15T13:34:00.002Z"
   },
   {
    "duration": 9,
    "start_time": "2023-03-15T13:44:50.390Z"
   },
   {
    "duration": 4,
    "start_time": "2023-03-15T13:56:37.851Z"
   },
   {
    "duration": 45,
    "start_time": "2023-03-15T22:14:10.891Z"
   },
   {
    "duration": 1203,
    "start_time": "2023-03-15T22:14:27.220Z"
   },
   {
    "duration": 14,
    "start_time": "2023-03-15T22:14:28.425Z"
   },
   {
    "duration": 42,
    "start_time": "2023-03-15T22:14:28.440Z"
   },
   {
    "duration": 151,
    "start_time": "2023-03-15T22:14:28.484Z"
   },
   {
    "duration": 56,
    "start_time": "2023-03-15T22:15:01.404Z"
   },
   {
    "duration": 47,
    "start_time": "2023-03-15T22:15:01.461Z"
   },
   {
    "duration": 31,
    "start_time": "2023-03-15T22:15:01.510Z"
   },
   {
    "duration": 168,
    "start_time": "2023-03-15T22:15:01.544Z"
   },
   {
    "duration": 1120,
    "start_time": "2023-03-15T22:24:36.515Z"
   },
   {
    "duration": 15,
    "start_time": "2023-03-15T22:24:42.809Z"
   },
   {
    "duration": 315,
    "start_time": "2023-03-15T22:24:57.275Z"
   },
   {
    "duration": 224,
    "start_time": "2023-03-15T22:27:55.461Z"
   },
   {
    "duration": 54,
    "start_time": "2023-03-15T22:28:11.034Z"
   },
   {
    "duration": 48,
    "start_time": "2023-03-15T22:28:38.854Z"
   },
   {
    "duration": 41,
    "start_time": "2023-03-15T22:28:46.654Z"
   },
   {
    "duration": 53,
    "start_time": "2023-03-15T22:29:01.534Z"
   },
   {
    "duration": 109,
    "start_time": "2023-03-15T22:29:15.379Z"
   },
   {
    "duration": 75,
    "start_time": "2023-03-15T22:29:34.508Z"
   },
   {
    "duration": 58,
    "start_time": "2023-03-15T22:29:44.126Z"
   },
   {
    "duration": 89,
    "start_time": "2023-03-15T22:30:03.994Z"
   },
   {
    "duration": 78,
    "start_time": "2023-03-15T22:30:11.006Z"
   },
   {
    "duration": 89,
    "start_time": "2023-03-15T22:30:20.694Z"
   },
   {
    "duration": 1556,
    "start_time": "2023-03-16T16:00:41.864Z"
   },
   {
    "duration": 17,
    "start_time": "2023-03-16T16:00:43.423Z"
   },
   {
    "duration": 64,
    "start_time": "2023-03-16T16:00:43.442Z"
   },
   {
    "duration": 1195,
    "start_time": "2023-03-16T18:05:25.115Z"
   },
   {
    "duration": 101,
    "start_time": "2023-03-16T18:05:28.747Z"
   },
   {
    "duration": 57,
    "start_time": "2023-03-16T18:05:58.008Z"
   },
   {
    "duration": 55,
    "start_time": "2023-03-16T18:09:23.891Z"
   },
   {
    "duration": 54,
    "start_time": "2023-03-16T18:09:32.172Z"
   },
   {
    "duration": 70,
    "start_time": "2023-03-16T18:09:50.464Z"
   },
   {
    "duration": 64,
    "start_time": "2023-03-16T18:10:46.479Z"
   },
   {
    "duration": 60,
    "start_time": "2023-03-16T18:11:07.423Z"
   },
   {
    "duration": 84,
    "start_time": "2023-03-16T18:11:32.944Z"
   },
   {
    "duration": 48,
    "start_time": "2023-03-16T20:10:44.298Z"
   },
   {
    "duration": 1093,
    "start_time": "2023-03-16T20:10:50.901Z"
   },
   {
    "duration": 160,
    "start_time": "2023-03-16T20:10:54.353Z"
   },
   {
    "duration": 11,
    "start_time": "2023-03-16T20:10:59.280Z"
   },
   {
    "duration": 13,
    "start_time": "2023-03-16T20:11:24.847Z"
   },
   {
    "duration": 212,
    "start_time": "2023-03-16T20:46:05.287Z"
   },
   {
    "duration": 176,
    "start_time": "2023-03-16T20:46:56.416Z"
   },
   {
    "duration": 112,
    "start_time": "2023-03-16T20:47:06.291Z"
   },
   {
    "duration": 134,
    "start_time": "2023-03-16T20:47:11.757Z"
   },
   {
    "duration": 149,
    "start_time": "2023-03-16T20:47:30.147Z"
   },
   {
    "duration": 73,
    "start_time": "2023-03-16T20:47:56.927Z"
   },
   {
    "duration": 849,
    "start_time": "2023-03-17T04:49:55.108Z"
   },
   {
    "duration": 139,
    "start_time": "2023-03-17T04:49:55.958Z"
   },
   {
    "duration": 11,
    "start_time": "2023-03-17T04:49:56.099Z"
   },
   {
    "duration": 21,
    "start_time": "2023-03-17T04:49:56.112Z"
   },
   {
    "duration": 160,
    "start_time": "2023-03-17T04:49:56.135Z"
   }
  ],
  "kernelspec": {
   "display_name": "Python 3 (ipykernel)",
   "language": "python",
   "name": "python3"
  },
  "language_info": {
   "codemirror_mode": {
    "name": "ipython",
    "version": 3
   },
   "file_extension": ".py",
   "mimetype": "text/x-python",
   "name": "python",
   "nbconvert_exporter": "python",
   "pygments_lexer": "ipython3",
   "version": "3.9.5"
  },
  "toc": {
   "base_numbering": 1,
   "nav_menu": {},
   "number_sections": true,
   "sideBar": true,
   "skip_h1_title": true,
   "title_cell": "Содержание",
   "title_sidebar": "Contents",
   "toc_cell": true,
   "toc_position": {},
   "toc_section_display": true,
   "toc_window_display": true
  }
 },
 "nbformat": 4,
 "nbformat_minor": 2
}

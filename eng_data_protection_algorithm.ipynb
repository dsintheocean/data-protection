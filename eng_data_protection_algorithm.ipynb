{
  "cells": [
    {
      "cell_type": "markdown",
      "metadata": {
        "id": "hKEw50XNcv4K"
      },
      "source": [
        "# Защита персональных данных клиентов"
      ]
    },
    {
      "cell_type": "markdown",
      "metadata": {
        "id": "jbzcDjbBcv4M"
      },
      "source": [
        "Необходимо защитить данные клиентов страховой компании. Задача - разработать такой метод преобразования данных, чтобы по ним было сложно восстановить персональную информацию.\n",
        "Нужно защитить данные, чтобы при преобразовании качество моделей машинного обучения не ухудшилось."
      ]
    },
    {
      "cell_type": "markdown",
      "metadata": {
        "id": "EIWmIkv_cv4M"
      },
      "source": [
        "## Loading data"
      ]
    },
    {
      "cell_type": "markdown",
      "metadata": {
        "id": "4sLA2n3pcv4N"
      },
      "source": [
        "**Check the data for gaps and anomalies.**"
      ]
    },
    {
      "cell_type": "code",
      "execution_count": 1,
      "metadata": {
        "id": "skgxD-Rvcv4N",
        "outputId": "9817d410-2f71-43bb-e91a-3ea5805cd4a9",
        "colab": {
          "base_uri": "https://localhost:8080/"
        }
      },
      "outputs": [
        {
          "output_type": "stream",
          "name": "stdout",
          "text": [
            "Mounted at /content/drive\n"
          ]
        }
      ],
      "source": [
        "import pandas as pd\n",
        "import numpy as np\n",
        "from sklearn.metrics import r2_score\n",
        "from sklearn.linear_model import LinearRegression\n",
        "\n",
        "from google.colab import drive\n",
        "drive.mount('/content/drive')"
      ]
    },
    {
      "cell_type": "code",
      "execution_count": 6,
      "metadata": {
        "id": "Oz4_wwntcv4N",
        "outputId": "4ed0ad7e-9f5a-43aa-d4fa-449b8379923c",
        "colab": {
          "base_uri": "https://localhost:8080/",
          "height": 909
        }
      },
      "outputs": [
        {
          "output_type": "display_data",
          "data": {
            "text/plain": [
              "   Gender   Age   Salary  Family members  Insurance claims\n",
              "0       1  41.0  49600.0               1                 0\n",
              "1       0  46.0  38000.0               1                 1\n",
              "2       0  29.0  21000.0               0                 0\n",
              "3       0  21.0  41700.0               2                 0\n",
              "4       1  28.0  26100.0               0                 0"
            ],
            "text/html": [
              "\n",
              "  <div id=\"df-c07c23ee-025a-471c-a08a-6cf86a62e151\" class=\"colab-df-container\">\n",
              "    <div>\n",
              "<style scoped>\n",
              "    .dataframe tbody tr th:only-of-type {\n",
              "        vertical-align: middle;\n",
              "    }\n",
              "\n",
              "    .dataframe tbody tr th {\n",
              "        vertical-align: top;\n",
              "    }\n",
              "\n",
              "    .dataframe thead th {\n",
              "        text-align: right;\n",
              "    }\n",
              "</style>\n",
              "<table border=\"1\" class=\"dataframe\">\n",
              "  <thead>\n",
              "    <tr style=\"text-align: right;\">\n",
              "      <th></th>\n",
              "      <th>Gender</th>\n",
              "      <th>Age</th>\n",
              "      <th>Salary</th>\n",
              "      <th>Family members</th>\n",
              "      <th>Insurance claims</th>\n",
              "    </tr>\n",
              "  </thead>\n",
              "  <tbody>\n",
              "    <tr>\n",
              "      <th>0</th>\n",
              "      <td>1</td>\n",
              "      <td>41.0</td>\n",
              "      <td>49600.0</td>\n",
              "      <td>1</td>\n",
              "      <td>0</td>\n",
              "    </tr>\n",
              "    <tr>\n",
              "      <th>1</th>\n",
              "      <td>0</td>\n",
              "      <td>46.0</td>\n",
              "      <td>38000.0</td>\n",
              "      <td>1</td>\n",
              "      <td>1</td>\n",
              "    </tr>\n",
              "    <tr>\n",
              "      <th>2</th>\n",
              "      <td>0</td>\n",
              "      <td>29.0</td>\n",
              "      <td>21000.0</td>\n",
              "      <td>0</td>\n",
              "      <td>0</td>\n",
              "    </tr>\n",
              "    <tr>\n",
              "      <th>3</th>\n",
              "      <td>0</td>\n",
              "      <td>21.0</td>\n",
              "      <td>41700.0</td>\n",
              "      <td>2</td>\n",
              "      <td>0</td>\n",
              "    </tr>\n",
              "    <tr>\n",
              "      <th>4</th>\n",
              "      <td>1</td>\n",
              "      <td>28.0</td>\n",
              "      <td>26100.0</td>\n",
              "      <td>0</td>\n",
              "      <td>0</td>\n",
              "    </tr>\n",
              "  </tbody>\n",
              "</table>\n",
              "</div>\n",
              "    <div class=\"colab-df-buttons\">\n",
              "\n",
              "  <div class=\"colab-df-container\">\n",
              "    <button class=\"colab-df-convert\" onclick=\"convertToInteractive('df-c07c23ee-025a-471c-a08a-6cf86a62e151')\"\n",
              "            title=\"Convert this dataframe to an interactive table.\"\n",
              "            style=\"display:none;\">\n",
              "\n",
              "  <svg xmlns=\"http://www.w3.org/2000/svg\" height=\"24px\" viewBox=\"0 -960 960 960\">\n",
              "    <path d=\"M120-120v-720h720v720H120Zm60-500h600v-160H180v160Zm220 220h160v-160H400v160Zm0 220h160v-160H400v160ZM180-400h160v-160H180v160Zm440 0h160v-160H620v160ZM180-180h160v-160H180v160Zm440 0h160v-160H620v160Z\"/>\n",
              "  </svg>\n",
              "    </button>\n",
              "\n",
              "  <style>\n",
              "    .colab-df-container {\n",
              "      display:flex;\n",
              "      gap: 12px;\n",
              "    }\n",
              "\n",
              "    .colab-df-convert {\n",
              "      background-color: #E8F0FE;\n",
              "      border: none;\n",
              "      border-radius: 50%;\n",
              "      cursor: pointer;\n",
              "      display: none;\n",
              "      fill: #1967D2;\n",
              "      height: 32px;\n",
              "      padding: 0 0 0 0;\n",
              "      width: 32px;\n",
              "    }\n",
              "\n",
              "    .colab-df-convert:hover {\n",
              "      background-color: #E2EBFA;\n",
              "      box-shadow: 0px 1px 2px rgba(60, 64, 67, 0.3), 0px 1px 3px 1px rgba(60, 64, 67, 0.15);\n",
              "      fill: #174EA6;\n",
              "    }\n",
              "\n",
              "    .colab-df-buttons div {\n",
              "      margin-bottom: 4px;\n",
              "    }\n",
              "\n",
              "    [theme=dark] .colab-df-convert {\n",
              "      background-color: #3B4455;\n",
              "      fill: #D2E3FC;\n",
              "    }\n",
              "\n",
              "    [theme=dark] .colab-df-convert:hover {\n",
              "      background-color: #434B5C;\n",
              "      box-shadow: 0px 1px 3px 1px rgba(0, 0, 0, 0.15);\n",
              "      filter: drop-shadow(0px 1px 2px rgba(0, 0, 0, 0.3));\n",
              "      fill: #FFFFFF;\n",
              "    }\n",
              "  </style>\n",
              "\n",
              "    <script>\n",
              "      const buttonEl =\n",
              "        document.querySelector('#df-c07c23ee-025a-471c-a08a-6cf86a62e151 button.colab-df-convert');\n",
              "      buttonEl.style.display =\n",
              "        google.colab.kernel.accessAllowed ? 'block' : 'none';\n",
              "\n",
              "      async function convertToInteractive(key) {\n",
              "        const element = document.querySelector('#df-c07c23ee-025a-471c-a08a-6cf86a62e151');\n",
              "        const dataTable =\n",
              "          await google.colab.kernel.invokeFunction('convertToInteractive',\n",
              "                                                    [key], {});\n",
              "        if (!dataTable) return;\n",
              "\n",
              "        const docLinkHtml = 'Like what you see? Visit the ' +\n",
              "          '<a target=\"_blank\" href=https://colab.research.google.com/notebooks/data_table.ipynb>data table notebook</a>'\n",
              "          + ' to learn more about interactive tables.';\n",
              "        element.innerHTML = '';\n",
              "        dataTable['output_type'] = 'display_data';\n",
              "        await google.colab.output.renderOutput(dataTable, element);\n",
              "        const docLink = document.createElement('div');\n",
              "        docLink.innerHTML = docLinkHtml;\n",
              "        element.appendChild(docLink);\n",
              "      }\n",
              "    </script>\n",
              "  </div>\n",
              "\n",
              "\n",
              "<div id=\"df-8cb371dd-6dbb-4d11-a569-b6563b0988ff\">\n",
              "  <button class=\"colab-df-quickchart\" onclick=\"quickchart('df-8cb371dd-6dbb-4d11-a569-b6563b0988ff')\"\n",
              "            title=\"Suggest charts.\"\n",
              "            style=\"display:none;\">\n",
              "\n",
              "<svg xmlns=\"http://www.w3.org/2000/svg\" height=\"24px\"viewBox=\"0 0 24 24\"\n",
              "     width=\"24px\">\n",
              "    <g>\n",
              "        <path d=\"M19 3H5c-1.1 0-2 .9-2 2v14c0 1.1.9 2 2 2h14c1.1 0 2-.9 2-2V5c0-1.1-.9-2-2-2zM9 17H7v-7h2v7zm4 0h-2V7h2v10zm4 0h-2v-4h2v4z\"/>\n",
              "    </g>\n",
              "</svg>\n",
              "  </button>\n",
              "\n",
              "<style>\n",
              "  .colab-df-quickchart {\n",
              "      --bg-color: #E8F0FE;\n",
              "      --fill-color: #1967D2;\n",
              "      --hover-bg-color: #E2EBFA;\n",
              "      --hover-fill-color: #174EA6;\n",
              "      --disabled-fill-color: #AAA;\n",
              "      --disabled-bg-color: #DDD;\n",
              "  }\n",
              "\n",
              "  [theme=dark] .colab-df-quickchart {\n",
              "      --bg-color: #3B4455;\n",
              "      --fill-color: #D2E3FC;\n",
              "      --hover-bg-color: #434B5C;\n",
              "      --hover-fill-color: #FFFFFF;\n",
              "      --disabled-bg-color: #3B4455;\n",
              "      --disabled-fill-color: #666;\n",
              "  }\n",
              "\n",
              "  .colab-df-quickchart {\n",
              "    background-color: var(--bg-color);\n",
              "    border: none;\n",
              "    border-radius: 50%;\n",
              "    cursor: pointer;\n",
              "    display: none;\n",
              "    fill: var(--fill-color);\n",
              "    height: 32px;\n",
              "    padding: 0;\n",
              "    width: 32px;\n",
              "  }\n",
              "\n",
              "  .colab-df-quickchart:hover {\n",
              "    background-color: var(--hover-bg-color);\n",
              "    box-shadow: 0 1px 2px rgba(60, 64, 67, 0.3), 0 1px 3px 1px rgba(60, 64, 67, 0.15);\n",
              "    fill: var(--button-hover-fill-color);\n",
              "  }\n",
              "\n",
              "  .colab-df-quickchart-complete:disabled,\n",
              "  .colab-df-quickchart-complete:disabled:hover {\n",
              "    background-color: var(--disabled-bg-color);\n",
              "    fill: var(--disabled-fill-color);\n",
              "    box-shadow: none;\n",
              "  }\n",
              "\n",
              "  .colab-df-spinner {\n",
              "    border: 2px solid var(--fill-color);\n",
              "    border-color: transparent;\n",
              "    border-bottom-color: var(--fill-color);\n",
              "    animation:\n",
              "      spin 1s steps(1) infinite;\n",
              "  }\n",
              "\n",
              "  @keyframes spin {\n",
              "    0% {\n",
              "      border-color: transparent;\n",
              "      border-bottom-color: var(--fill-color);\n",
              "      border-left-color: var(--fill-color);\n",
              "    }\n",
              "    20% {\n",
              "      border-color: transparent;\n",
              "      border-left-color: var(--fill-color);\n",
              "      border-top-color: var(--fill-color);\n",
              "    }\n",
              "    30% {\n",
              "      border-color: transparent;\n",
              "      border-left-color: var(--fill-color);\n",
              "      border-top-color: var(--fill-color);\n",
              "      border-right-color: var(--fill-color);\n",
              "    }\n",
              "    40% {\n",
              "      border-color: transparent;\n",
              "      border-right-color: var(--fill-color);\n",
              "      border-top-color: var(--fill-color);\n",
              "    }\n",
              "    60% {\n",
              "      border-color: transparent;\n",
              "      border-right-color: var(--fill-color);\n",
              "    }\n",
              "    80% {\n",
              "      border-color: transparent;\n",
              "      border-right-color: var(--fill-color);\n",
              "      border-bottom-color: var(--fill-color);\n",
              "    }\n",
              "    90% {\n",
              "      border-color: transparent;\n",
              "      border-bottom-color: var(--fill-color);\n",
              "    }\n",
              "  }\n",
              "</style>\n",
              "\n",
              "  <script>\n",
              "    async function quickchart(key) {\n",
              "      const quickchartButtonEl =\n",
              "        document.querySelector('#' + key + ' button');\n",
              "      quickchartButtonEl.disabled = true;  // To prevent multiple clicks.\n",
              "      quickchartButtonEl.classList.add('colab-df-spinner');\n",
              "      try {\n",
              "        const charts = await google.colab.kernel.invokeFunction(\n",
              "            'suggestCharts', [key], {});\n",
              "      } catch (error) {\n",
              "        console.error('Error during call to suggestCharts:', error);\n",
              "      }\n",
              "      quickchartButtonEl.classList.remove('colab-df-spinner');\n",
              "      quickchartButtonEl.classList.add('colab-df-quickchart-complete');\n",
              "    }\n",
              "    (() => {\n",
              "      let quickchartButtonEl =\n",
              "        document.querySelector('#df-8cb371dd-6dbb-4d11-a569-b6563b0988ff button');\n",
              "      quickchartButtonEl.style.display =\n",
              "        google.colab.kernel.accessAllowed ? 'block' : 'none';\n",
              "    })();\n",
              "  </script>\n",
              "</div>\n",
              "    </div>\n",
              "  </div>\n"
            ]
          },
          "metadata": {}
        },
        {
          "output_type": "stream",
          "name": "stdout",
          "text": [
            "<class 'pandas.core.frame.DataFrame'>\n",
            "RangeIndex: 5000 entries, 0 to 4999\n",
            "Data columns (total 5 columns):\n",
            " #   Column            Non-Null Count  Dtype  \n",
            "---  ------            --------------  -----  \n",
            " 0   Gender            5000 non-null   int64  \n",
            " 1   Age               5000 non-null   float64\n",
            " 2   Salary            5000 non-null   float64\n",
            " 3   Family members    5000 non-null   int64  \n",
            " 4   Insurance claims  5000 non-null   int64  \n",
            "dtypes: float64(2), int64(3)\n",
            "memory usage: 195.4 KB\n"
          ]
        },
        {
          "output_type": "display_data",
          "data": {
            "text/plain": [
              "None"
            ]
          },
          "metadata": {}
        },
        {
          "output_type": "display_data",
          "data": {
            "text/plain": [
              "            Gender          Age        Salary  Family members  \\\n",
              "count  5000.000000  5000.000000   5000.000000     5000.000000   \n",
              "mean      0.499000    30.952800  39916.360000        1.194200   \n",
              "std       0.500049     8.440807   9900.083569        1.091387   \n",
              "min       0.000000    18.000000   5300.000000        0.000000   \n",
              "25%       0.000000    24.000000  33300.000000        0.000000   \n",
              "50%       0.000000    30.000000  40200.000000        1.000000   \n",
              "75%       1.000000    37.000000  46600.000000        2.000000   \n",
              "max       1.000000    65.000000  79000.000000        6.000000   \n",
              "\n",
              "       Insurance claims  \n",
              "count       5000.000000  \n",
              "mean           0.148000  \n",
              "std            0.463183  \n",
              "min            0.000000  \n",
              "25%            0.000000  \n",
              "50%            0.000000  \n",
              "75%            0.000000  \n",
              "max            5.000000  "
            ],
            "text/html": [
              "\n",
              "  <div id=\"df-20049ad5-3b3b-44fa-aa7b-131839c11c56\" class=\"colab-df-container\">\n",
              "    <div>\n",
              "<style scoped>\n",
              "    .dataframe tbody tr th:only-of-type {\n",
              "        vertical-align: middle;\n",
              "    }\n",
              "\n",
              "    .dataframe tbody tr th {\n",
              "        vertical-align: top;\n",
              "    }\n",
              "\n",
              "    .dataframe thead th {\n",
              "        text-align: right;\n",
              "    }\n",
              "</style>\n",
              "<table border=\"1\" class=\"dataframe\">\n",
              "  <thead>\n",
              "    <tr style=\"text-align: right;\">\n",
              "      <th></th>\n",
              "      <th>Gender</th>\n",
              "      <th>Age</th>\n",
              "      <th>Salary</th>\n",
              "      <th>Family members</th>\n",
              "      <th>Insurance claims</th>\n",
              "    </tr>\n",
              "  </thead>\n",
              "  <tbody>\n",
              "    <tr>\n",
              "      <th>count</th>\n",
              "      <td>5000.000000</td>\n",
              "      <td>5000.000000</td>\n",
              "      <td>5000.000000</td>\n",
              "      <td>5000.000000</td>\n",
              "      <td>5000.000000</td>\n",
              "    </tr>\n",
              "    <tr>\n",
              "      <th>mean</th>\n",
              "      <td>0.499000</td>\n",
              "      <td>30.952800</td>\n",
              "      <td>39916.360000</td>\n",
              "      <td>1.194200</td>\n",
              "      <td>0.148000</td>\n",
              "    </tr>\n",
              "    <tr>\n",
              "      <th>std</th>\n",
              "      <td>0.500049</td>\n",
              "      <td>8.440807</td>\n",
              "      <td>9900.083569</td>\n",
              "      <td>1.091387</td>\n",
              "      <td>0.463183</td>\n",
              "    </tr>\n",
              "    <tr>\n",
              "      <th>min</th>\n",
              "      <td>0.000000</td>\n",
              "      <td>18.000000</td>\n",
              "      <td>5300.000000</td>\n",
              "      <td>0.000000</td>\n",
              "      <td>0.000000</td>\n",
              "    </tr>\n",
              "    <tr>\n",
              "      <th>25%</th>\n",
              "      <td>0.000000</td>\n",
              "      <td>24.000000</td>\n",
              "      <td>33300.000000</td>\n",
              "      <td>0.000000</td>\n",
              "      <td>0.000000</td>\n",
              "    </tr>\n",
              "    <tr>\n",
              "      <th>50%</th>\n",
              "      <td>0.000000</td>\n",
              "      <td>30.000000</td>\n",
              "      <td>40200.000000</td>\n",
              "      <td>1.000000</td>\n",
              "      <td>0.000000</td>\n",
              "    </tr>\n",
              "    <tr>\n",
              "      <th>75%</th>\n",
              "      <td>1.000000</td>\n",
              "      <td>37.000000</td>\n",
              "      <td>46600.000000</td>\n",
              "      <td>2.000000</td>\n",
              "      <td>0.000000</td>\n",
              "    </tr>\n",
              "    <tr>\n",
              "      <th>max</th>\n",
              "      <td>1.000000</td>\n",
              "      <td>65.000000</td>\n",
              "      <td>79000.000000</td>\n",
              "      <td>6.000000</td>\n",
              "      <td>5.000000</td>\n",
              "    </tr>\n",
              "  </tbody>\n",
              "</table>\n",
              "</div>\n",
              "    <div class=\"colab-df-buttons\">\n",
              "\n",
              "  <div class=\"colab-df-container\">\n",
              "    <button class=\"colab-df-convert\" onclick=\"convertToInteractive('df-20049ad5-3b3b-44fa-aa7b-131839c11c56')\"\n",
              "            title=\"Convert this dataframe to an interactive table.\"\n",
              "            style=\"display:none;\">\n",
              "\n",
              "  <svg xmlns=\"http://www.w3.org/2000/svg\" height=\"24px\" viewBox=\"0 -960 960 960\">\n",
              "    <path d=\"M120-120v-720h720v720H120Zm60-500h600v-160H180v160Zm220 220h160v-160H400v160Zm0 220h160v-160H400v160ZM180-400h160v-160H180v160Zm440 0h160v-160H620v160ZM180-180h160v-160H180v160Zm440 0h160v-160H620v160Z\"/>\n",
              "  </svg>\n",
              "    </button>\n",
              "\n",
              "  <style>\n",
              "    .colab-df-container {\n",
              "      display:flex;\n",
              "      gap: 12px;\n",
              "    }\n",
              "\n",
              "    .colab-df-convert {\n",
              "      background-color: #E8F0FE;\n",
              "      border: none;\n",
              "      border-radius: 50%;\n",
              "      cursor: pointer;\n",
              "      display: none;\n",
              "      fill: #1967D2;\n",
              "      height: 32px;\n",
              "      padding: 0 0 0 0;\n",
              "      width: 32px;\n",
              "    }\n",
              "\n",
              "    .colab-df-convert:hover {\n",
              "      background-color: #E2EBFA;\n",
              "      box-shadow: 0px 1px 2px rgba(60, 64, 67, 0.3), 0px 1px 3px 1px rgba(60, 64, 67, 0.15);\n",
              "      fill: #174EA6;\n",
              "    }\n",
              "\n",
              "    .colab-df-buttons div {\n",
              "      margin-bottom: 4px;\n",
              "    }\n",
              "\n",
              "    [theme=dark] .colab-df-convert {\n",
              "      background-color: #3B4455;\n",
              "      fill: #D2E3FC;\n",
              "    }\n",
              "\n",
              "    [theme=dark] .colab-df-convert:hover {\n",
              "      background-color: #434B5C;\n",
              "      box-shadow: 0px 1px 3px 1px rgba(0, 0, 0, 0.15);\n",
              "      filter: drop-shadow(0px 1px 2px rgba(0, 0, 0, 0.3));\n",
              "      fill: #FFFFFF;\n",
              "    }\n",
              "  </style>\n",
              "\n",
              "    <script>\n",
              "      const buttonEl =\n",
              "        document.querySelector('#df-20049ad5-3b3b-44fa-aa7b-131839c11c56 button.colab-df-convert');\n",
              "      buttonEl.style.display =\n",
              "        google.colab.kernel.accessAllowed ? 'block' : 'none';\n",
              "\n",
              "      async function convertToInteractive(key) {\n",
              "        const element = document.querySelector('#df-20049ad5-3b3b-44fa-aa7b-131839c11c56');\n",
              "        const dataTable =\n",
              "          await google.colab.kernel.invokeFunction('convertToInteractive',\n",
              "                                                    [key], {});\n",
              "        if (!dataTable) return;\n",
              "\n",
              "        const docLinkHtml = 'Like what you see? Visit the ' +\n",
              "          '<a target=\"_blank\" href=https://colab.research.google.com/notebooks/data_table.ipynb>data table notebook</a>'\n",
              "          + ' to learn more about interactive tables.';\n",
              "        element.innerHTML = '';\n",
              "        dataTable['output_type'] = 'display_data';\n",
              "        await google.colab.output.renderOutput(dataTable, element);\n",
              "        const docLink = document.createElement('div');\n",
              "        docLink.innerHTML = docLinkHtml;\n",
              "        element.appendChild(docLink);\n",
              "      }\n",
              "    </script>\n",
              "  </div>\n",
              "\n",
              "\n",
              "<div id=\"df-9147d503-c80d-4a3f-884a-c74a7c074878\">\n",
              "  <button class=\"colab-df-quickchart\" onclick=\"quickchart('df-9147d503-c80d-4a3f-884a-c74a7c074878')\"\n",
              "            title=\"Suggest charts.\"\n",
              "            style=\"display:none;\">\n",
              "\n",
              "<svg xmlns=\"http://www.w3.org/2000/svg\" height=\"24px\"viewBox=\"0 0 24 24\"\n",
              "     width=\"24px\">\n",
              "    <g>\n",
              "        <path d=\"M19 3H5c-1.1 0-2 .9-2 2v14c0 1.1.9 2 2 2h14c1.1 0 2-.9 2-2V5c0-1.1-.9-2-2-2zM9 17H7v-7h2v7zm4 0h-2V7h2v10zm4 0h-2v-4h2v4z\"/>\n",
              "    </g>\n",
              "</svg>\n",
              "  </button>\n",
              "\n",
              "<style>\n",
              "  .colab-df-quickchart {\n",
              "      --bg-color: #E8F0FE;\n",
              "      --fill-color: #1967D2;\n",
              "      --hover-bg-color: #E2EBFA;\n",
              "      --hover-fill-color: #174EA6;\n",
              "      --disabled-fill-color: #AAA;\n",
              "      --disabled-bg-color: #DDD;\n",
              "  }\n",
              "\n",
              "  [theme=dark] .colab-df-quickchart {\n",
              "      --bg-color: #3B4455;\n",
              "      --fill-color: #D2E3FC;\n",
              "      --hover-bg-color: #434B5C;\n",
              "      --hover-fill-color: #FFFFFF;\n",
              "      --disabled-bg-color: #3B4455;\n",
              "      --disabled-fill-color: #666;\n",
              "  }\n",
              "\n",
              "  .colab-df-quickchart {\n",
              "    background-color: var(--bg-color);\n",
              "    border: none;\n",
              "    border-radius: 50%;\n",
              "    cursor: pointer;\n",
              "    display: none;\n",
              "    fill: var(--fill-color);\n",
              "    height: 32px;\n",
              "    padding: 0;\n",
              "    width: 32px;\n",
              "  }\n",
              "\n",
              "  .colab-df-quickchart:hover {\n",
              "    background-color: var(--hover-bg-color);\n",
              "    box-shadow: 0 1px 2px rgba(60, 64, 67, 0.3), 0 1px 3px 1px rgba(60, 64, 67, 0.15);\n",
              "    fill: var(--button-hover-fill-color);\n",
              "  }\n",
              "\n",
              "  .colab-df-quickchart-complete:disabled,\n",
              "  .colab-df-quickchart-complete:disabled:hover {\n",
              "    background-color: var(--disabled-bg-color);\n",
              "    fill: var(--disabled-fill-color);\n",
              "    box-shadow: none;\n",
              "  }\n",
              "\n",
              "  .colab-df-spinner {\n",
              "    border: 2px solid var(--fill-color);\n",
              "    border-color: transparent;\n",
              "    border-bottom-color: var(--fill-color);\n",
              "    animation:\n",
              "      spin 1s steps(1) infinite;\n",
              "  }\n",
              "\n",
              "  @keyframes spin {\n",
              "    0% {\n",
              "      border-color: transparent;\n",
              "      border-bottom-color: var(--fill-color);\n",
              "      border-left-color: var(--fill-color);\n",
              "    }\n",
              "    20% {\n",
              "      border-color: transparent;\n",
              "      border-left-color: var(--fill-color);\n",
              "      border-top-color: var(--fill-color);\n",
              "    }\n",
              "    30% {\n",
              "      border-color: transparent;\n",
              "      border-left-color: var(--fill-color);\n",
              "      border-top-color: var(--fill-color);\n",
              "      border-right-color: var(--fill-color);\n",
              "    }\n",
              "    40% {\n",
              "      border-color: transparent;\n",
              "      border-right-color: var(--fill-color);\n",
              "      border-top-color: var(--fill-color);\n",
              "    }\n",
              "    60% {\n",
              "      border-color: transparent;\n",
              "      border-right-color: var(--fill-color);\n",
              "    }\n",
              "    80% {\n",
              "      border-color: transparent;\n",
              "      border-right-color: var(--fill-color);\n",
              "      border-bottom-color: var(--fill-color);\n",
              "    }\n",
              "    90% {\n",
              "      border-color: transparent;\n",
              "      border-bottom-color: var(--fill-color);\n",
              "    }\n",
              "  }\n",
              "</style>\n",
              "\n",
              "  <script>\n",
              "    async function quickchart(key) {\n",
              "      const quickchartButtonEl =\n",
              "        document.querySelector('#' + key + ' button');\n",
              "      quickchartButtonEl.disabled = true;  // To prevent multiple clicks.\n",
              "      quickchartButtonEl.classList.add('colab-df-spinner');\n",
              "      try {\n",
              "        const charts = await google.colab.kernel.invokeFunction(\n",
              "            'suggestCharts', [key], {});\n",
              "      } catch (error) {\n",
              "        console.error('Error during call to suggestCharts:', error);\n",
              "      }\n",
              "      quickchartButtonEl.classList.remove('colab-df-spinner');\n",
              "      quickchartButtonEl.classList.add('colab-df-quickchart-complete');\n",
              "    }\n",
              "    (() => {\n",
              "      let quickchartButtonEl =\n",
              "        document.querySelector('#df-9147d503-c80d-4a3f-884a-c74a7c074878 button');\n",
              "      quickchartButtonEl.style.display =\n",
              "        google.colab.kernel.accessAllowed ? 'block' : 'none';\n",
              "    })();\n",
              "  </script>\n",
              "</div>\n",
              "    </div>\n",
              "  </div>\n"
            ]
          },
          "metadata": {}
        },
        {
          "output_type": "stream",
          "name": "stdout",
          "text": [
            "number of duplicate lines = 153\n"
          ]
        },
        {
          "output_type": "execute_result",
          "data": {
            "text/plain": [
              "                    Gender       Age    Salary  Family members  \\\n",
              "Gender            1.000000  0.002074  0.014910       -0.008991   \n",
              "Age               0.002074  1.000000 -0.019093       -0.006692   \n",
              "Salary            0.014910 -0.019093  1.000000       -0.030296   \n",
              "Family members   -0.008991 -0.006692 -0.030296        1.000000   \n",
              "Insurance claims  0.010140  0.651030 -0.014963       -0.036290   \n",
              "\n",
              "                  Insurance claims  \n",
              "Gender                    0.010140  \n",
              "Age                       0.651030  \n",
              "Salary                   -0.014963  \n",
              "Family members           -0.036290  \n",
              "Insurance claims          1.000000  "
            ],
            "text/html": [
              "\n",
              "  <div id=\"df-0c03aef5-4070-4b16-9367-609f70fa9f84\" class=\"colab-df-container\">\n",
              "    <div>\n",
              "<style scoped>\n",
              "    .dataframe tbody tr th:only-of-type {\n",
              "        vertical-align: middle;\n",
              "    }\n",
              "\n",
              "    .dataframe tbody tr th {\n",
              "        vertical-align: top;\n",
              "    }\n",
              "\n",
              "    .dataframe thead th {\n",
              "        text-align: right;\n",
              "    }\n",
              "</style>\n",
              "<table border=\"1\" class=\"dataframe\">\n",
              "  <thead>\n",
              "    <tr style=\"text-align: right;\">\n",
              "      <th></th>\n",
              "      <th>Gender</th>\n",
              "      <th>Age</th>\n",
              "      <th>Salary</th>\n",
              "      <th>Family members</th>\n",
              "      <th>Insurance claims</th>\n",
              "    </tr>\n",
              "  </thead>\n",
              "  <tbody>\n",
              "    <tr>\n",
              "      <th>Gender</th>\n",
              "      <td>1.000000</td>\n",
              "      <td>0.002074</td>\n",
              "      <td>0.014910</td>\n",
              "      <td>-0.008991</td>\n",
              "      <td>0.010140</td>\n",
              "    </tr>\n",
              "    <tr>\n",
              "      <th>Age</th>\n",
              "      <td>0.002074</td>\n",
              "      <td>1.000000</td>\n",
              "      <td>-0.019093</td>\n",
              "      <td>-0.006692</td>\n",
              "      <td>0.651030</td>\n",
              "    </tr>\n",
              "    <tr>\n",
              "      <th>Salary</th>\n",
              "      <td>0.014910</td>\n",
              "      <td>-0.019093</td>\n",
              "      <td>1.000000</td>\n",
              "      <td>-0.030296</td>\n",
              "      <td>-0.014963</td>\n",
              "    </tr>\n",
              "    <tr>\n",
              "      <th>Family members</th>\n",
              "      <td>-0.008991</td>\n",
              "      <td>-0.006692</td>\n",
              "      <td>-0.030296</td>\n",
              "      <td>1.000000</td>\n",
              "      <td>-0.036290</td>\n",
              "    </tr>\n",
              "    <tr>\n",
              "      <th>Insurance claims</th>\n",
              "      <td>0.010140</td>\n",
              "      <td>0.651030</td>\n",
              "      <td>-0.014963</td>\n",
              "      <td>-0.036290</td>\n",
              "      <td>1.000000</td>\n",
              "    </tr>\n",
              "  </tbody>\n",
              "</table>\n",
              "</div>\n",
              "    <div class=\"colab-df-buttons\">\n",
              "\n",
              "  <div class=\"colab-df-container\">\n",
              "    <button class=\"colab-df-convert\" onclick=\"convertToInteractive('df-0c03aef5-4070-4b16-9367-609f70fa9f84')\"\n",
              "            title=\"Convert this dataframe to an interactive table.\"\n",
              "            style=\"display:none;\">\n",
              "\n",
              "  <svg xmlns=\"http://www.w3.org/2000/svg\" height=\"24px\" viewBox=\"0 -960 960 960\">\n",
              "    <path d=\"M120-120v-720h720v720H120Zm60-500h600v-160H180v160Zm220 220h160v-160H400v160Zm0 220h160v-160H400v160ZM180-400h160v-160H180v160Zm440 0h160v-160H620v160ZM180-180h160v-160H180v160Zm440 0h160v-160H620v160Z\"/>\n",
              "  </svg>\n",
              "    </button>\n",
              "\n",
              "  <style>\n",
              "    .colab-df-container {\n",
              "      display:flex;\n",
              "      gap: 12px;\n",
              "    }\n",
              "\n",
              "    .colab-df-convert {\n",
              "      background-color: #E8F0FE;\n",
              "      border: none;\n",
              "      border-radius: 50%;\n",
              "      cursor: pointer;\n",
              "      display: none;\n",
              "      fill: #1967D2;\n",
              "      height: 32px;\n",
              "      padding: 0 0 0 0;\n",
              "      width: 32px;\n",
              "    }\n",
              "\n",
              "    .colab-df-convert:hover {\n",
              "      background-color: #E2EBFA;\n",
              "      box-shadow: 0px 1px 2px rgba(60, 64, 67, 0.3), 0px 1px 3px 1px rgba(60, 64, 67, 0.15);\n",
              "      fill: #174EA6;\n",
              "    }\n",
              "\n",
              "    .colab-df-buttons div {\n",
              "      margin-bottom: 4px;\n",
              "    }\n",
              "\n",
              "    [theme=dark] .colab-df-convert {\n",
              "      background-color: #3B4455;\n",
              "      fill: #D2E3FC;\n",
              "    }\n",
              "\n",
              "    [theme=dark] .colab-df-convert:hover {\n",
              "      background-color: #434B5C;\n",
              "      box-shadow: 0px 1px 3px 1px rgba(0, 0, 0, 0.15);\n",
              "      filter: drop-shadow(0px 1px 2px rgba(0, 0, 0, 0.3));\n",
              "      fill: #FFFFFF;\n",
              "    }\n",
              "  </style>\n",
              "\n",
              "    <script>\n",
              "      const buttonEl =\n",
              "        document.querySelector('#df-0c03aef5-4070-4b16-9367-609f70fa9f84 button.colab-df-convert');\n",
              "      buttonEl.style.display =\n",
              "        google.colab.kernel.accessAllowed ? 'block' : 'none';\n",
              "\n",
              "      async function convertToInteractive(key) {\n",
              "        const element = document.querySelector('#df-0c03aef5-4070-4b16-9367-609f70fa9f84');\n",
              "        const dataTable =\n",
              "          await google.colab.kernel.invokeFunction('convertToInteractive',\n",
              "                                                    [key], {});\n",
              "        if (!dataTable) return;\n",
              "\n",
              "        const docLinkHtml = 'Like what you see? Visit the ' +\n",
              "          '<a target=\"_blank\" href=https://colab.research.google.com/notebooks/data_table.ipynb>data table notebook</a>'\n",
              "          + ' to learn more about interactive tables.';\n",
              "        element.innerHTML = '';\n",
              "        dataTable['output_type'] = 'display_data';\n",
              "        await google.colab.output.renderOutput(dataTable, element);\n",
              "        const docLink = document.createElement('div');\n",
              "        docLink.innerHTML = docLinkHtml;\n",
              "        element.appendChild(docLink);\n",
              "      }\n",
              "    </script>\n",
              "  </div>\n",
              "\n",
              "\n",
              "<div id=\"df-52eea743-e0aa-490c-88ea-8014418305b5\">\n",
              "  <button class=\"colab-df-quickchart\" onclick=\"quickchart('df-52eea743-e0aa-490c-88ea-8014418305b5')\"\n",
              "            title=\"Suggest charts.\"\n",
              "            style=\"display:none;\">\n",
              "\n",
              "<svg xmlns=\"http://www.w3.org/2000/svg\" height=\"24px\"viewBox=\"0 0 24 24\"\n",
              "     width=\"24px\">\n",
              "    <g>\n",
              "        <path d=\"M19 3H5c-1.1 0-2 .9-2 2v14c0 1.1.9 2 2 2h14c1.1 0 2-.9 2-2V5c0-1.1-.9-2-2-2zM9 17H7v-7h2v7zm4 0h-2V7h2v10zm4 0h-2v-4h2v4z\"/>\n",
              "    </g>\n",
              "</svg>\n",
              "  </button>\n",
              "\n",
              "<style>\n",
              "  .colab-df-quickchart {\n",
              "      --bg-color: #E8F0FE;\n",
              "      --fill-color: #1967D2;\n",
              "      --hover-bg-color: #E2EBFA;\n",
              "      --hover-fill-color: #174EA6;\n",
              "      --disabled-fill-color: #AAA;\n",
              "      --disabled-bg-color: #DDD;\n",
              "  }\n",
              "\n",
              "  [theme=dark] .colab-df-quickchart {\n",
              "      --bg-color: #3B4455;\n",
              "      --fill-color: #D2E3FC;\n",
              "      --hover-bg-color: #434B5C;\n",
              "      --hover-fill-color: #FFFFFF;\n",
              "      --disabled-bg-color: #3B4455;\n",
              "      --disabled-fill-color: #666;\n",
              "  }\n",
              "\n",
              "  .colab-df-quickchart {\n",
              "    background-color: var(--bg-color);\n",
              "    border: none;\n",
              "    border-radius: 50%;\n",
              "    cursor: pointer;\n",
              "    display: none;\n",
              "    fill: var(--fill-color);\n",
              "    height: 32px;\n",
              "    padding: 0;\n",
              "    width: 32px;\n",
              "  }\n",
              "\n",
              "  .colab-df-quickchart:hover {\n",
              "    background-color: var(--hover-bg-color);\n",
              "    box-shadow: 0 1px 2px rgba(60, 64, 67, 0.3), 0 1px 3px 1px rgba(60, 64, 67, 0.15);\n",
              "    fill: var(--button-hover-fill-color);\n",
              "  }\n",
              "\n",
              "  .colab-df-quickchart-complete:disabled,\n",
              "  .colab-df-quickchart-complete:disabled:hover {\n",
              "    background-color: var(--disabled-bg-color);\n",
              "    fill: var(--disabled-fill-color);\n",
              "    box-shadow: none;\n",
              "  }\n",
              "\n",
              "  .colab-df-spinner {\n",
              "    border: 2px solid var(--fill-color);\n",
              "    border-color: transparent;\n",
              "    border-bottom-color: var(--fill-color);\n",
              "    animation:\n",
              "      spin 1s steps(1) infinite;\n",
              "  }\n",
              "\n",
              "  @keyframes spin {\n",
              "    0% {\n",
              "      border-color: transparent;\n",
              "      border-bottom-color: var(--fill-color);\n",
              "      border-left-color: var(--fill-color);\n",
              "    }\n",
              "    20% {\n",
              "      border-color: transparent;\n",
              "      border-left-color: var(--fill-color);\n",
              "      border-top-color: var(--fill-color);\n",
              "    }\n",
              "    30% {\n",
              "      border-color: transparent;\n",
              "      border-left-color: var(--fill-color);\n",
              "      border-top-color: var(--fill-color);\n",
              "      border-right-color: var(--fill-color);\n",
              "    }\n",
              "    40% {\n",
              "      border-color: transparent;\n",
              "      border-right-color: var(--fill-color);\n",
              "      border-top-color: var(--fill-color);\n",
              "    }\n",
              "    60% {\n",
              "      border-color: transparent;\n",
              "      border-right-color: var(--fill-color);\n",
              "    }\n",
              "    80% {\n",
              "      border-color: transparent;\n",
              "      border-right-color: var(--fill-color);\n",
              "      border-bottom-color: var(--fill-color);\n",
              "    }\n",
              "    90% {\n",
              "      border-color: transparent;\n",
              "      border-bottom-color: var(--fill-color);\n",
              "    }\n",
              "  }\n",
              "</style>\n",
              "\n",
              "  <script>\n",
              "    async function quickchart(key) {\n",
              "      const quickchartButtonEl =\n",
              "        document.querySelector('#' + key + ' button');\n",
              "      quickchartButtonEl.disabled = true;  // To prevent multiple clicks.\n",
              "      quickchartButtonEl.classList.add('colab-df-spinner');\n",
              "      try {\n",
              "        const charts = await google.colab.kernel.invokeFunction(\n",
              "            'suggestCharts', [key], {});\n",
              "      } catch (error) {\n",
              "        console.error('Error during call to suggestCharts:', error);\n",
              "      }\n",
              "      quickchartButtonEl.classList.remove('colab-df-spinner');\n",
              "      quickchartButtonEl.classList.add('colab-df-quickchart-complete');\n",
              "    }\n",
              "    (() => {\n",
              "      let quickchartButtonEl =\n",
              "        document.querySelector('#df-52eea743-e0aa-490c-88ea-8014418305b5 button');\n",
              "      quickchartButtonEl.style.display =\n",
              "        google.colab.kernel.accessAllowed ? 'block' : 'none';\n",
              "    })();\n",
              "  </script>\n",
              "</div>\n",
              "    </div>\n",
              "  </div>\n"
            ]
          },
          "metadata": {},
          "execution_count": 6
        }
      ],
      "source": [
        "data = pd.read_csv('/content/drive/My Drive/projects/personal_data_protection_algorithm/insurance.csv')\n",
        "data.columns = ['Gender', 'Age', 'Salary', 'Family members', 'Insurance claims'] #transaltion into English\n",
        "display(data.head())\n",
        "display(data.info())\n",
        "display(data.describe())\n",
        "print('number of duplicate lines =', data.duplicated().sum())\n",
        "data.corr()"
      ]
    },
    {
      "cell_type": "markdown",
      "metadata": {
        "id": "8SNJyJmucv4O"
      },
      "source": [
        "**3% of the total data duplicates were found in the data. And a positive strong correlation between the feature “Age” and the target feature “Insurance payments”. Let's remove duplicates below.**"
      ]
    },
    {
      "cell_type": "code",
      "execution_count": 3,
      "metadata": {
        "id": "MLxHoxEHcv4O",
        "outputId": "51c1948d-13ef-4e21-8d4f-fed6c634434c",
        "colab": {
          "base_uri": "https://localhost:8080/"
        }
      },
      "outputs": [
        {
          "output_type": "stream",
          "name": "stdout",
          "text": [
            "number of duplicate lines = 0\n"
          ]
        }
      ],
      "source": [
        "data = data.drop_duplicates()\n",
        "print('number of duplicate lines =', data.duplicated().sum())"
      ]
    },
    {
      "cell_type": "markdown",
      "metadata": {
        "id": "Fw3Mo6Dbcv4P"
      },
      "source": [
        "**Features: `Gender`, `Age`, `Salary`, `Family members`.**\n",
        "\n",
        "**Target Feature: `Insurance payments` - number of payments to the client over the last 5 years.**"
      ]
    },
    {
      "cell_type": "markdown",
      "metadata": {
        "id": "7dbG_94Ccv4P"
      },
      "source": [
        "**We also see that the type of features `Age` and `Salary` are float, although an integer type would be more suitable for these features, let's convert these features to an integer type.**\n",
        "\n",
        "**For the convenience of further work, we will translate the names of the signs into English and use the “snake register”.**"
      ]
    },
    {
      "cell_type": "code",
      "execution_count": 5,
      "metadata": {
        "id": "HlRAG-CFcv4Q",
        "outputId": "7ecea001-4cb7-4523-f378-8c1c5a6ff579",
        "colab": {
          "base_uri": "https://localhost:8080/",
          "height": 238
        }
      },
      "outputs": [
        {
          "output_type": "stream",
          "name": "stdout",
          "text": [
            "<class 'pandas.core.frame.DataFrame'>\n",
            "RangeIndex: 5000 entries, 0 to 4999\n",
            "Data columns (total 5 columns):\n",
            " #   Column           Non-Null Count  Dtype\n",
            "---  ------           --------------  -----\n",
            " 0   gender           5000 non-null   int64\n",
            " 1   age              5000 non-null   int64\n",
            " 2   salary           5000 non-null   int64\n",
            " 3   family_members   5000 non-null   int64\n",
            " 4   insurance_claim  5000 non-null   int64\n",
            "dtypes: int64(5)\n",
            "memory usage: 195.4 KB\n"
          ]
        },
        {
          "output_type": "display_data",
          "data": {
            "text/plain": [
              "None"
            ]
          },
          "metadata": {}
        }
      ],
      "source": [
        "data.columns = ['gender', 'age', 'salary', 'family_members', 'insurance_claim']\n",
        "data = data.astype(int)\n",
        "display(data.info())"
      ]
    },
    {
      "cell_type": "markdown",
      "metadata": {
        "id": "-L3_Mbikcv4Q"
      },
      "source": [
        "## Conclusions of section 1\n",
        "\n",
        "**3% duplicates were found in the data and duplicates were removed.**\n",
        "\n",
        "**In the data there is a positive strong correlation between the feature `Age` and the target feature `Insurance claims`.**\n",
        "\n",
        "**No data gaps.**\n",
        "\n",
        "**Data types of all features are converted to integer.**\n",
        "\n",
        "**Names of features, including target ones, are given in snake case and English.**"
      ]
    },
    {
      "cell_type": "markdown",
      "metadata": {
        "id": "NFKllX-9cv4Q"
      },
      "source": [
        "## Matrix multiplication"
      ]
    },
    {
      "cell_type": "markdown",
      "metadata": {
        "id": "0p-iVe64cv4Q"
      },
      "source": [
        "Designations:\n",
        "\n",
        "- $X$ — matrix of features (the zero column consists of ones)\n",
        "\n",
        "- $y$ — vector of the target feature\n",
        "\n",
        "- $P$ is the matrix by which the features are multiplied\n",
        "\n",
        "- $w$ — vector of linear regression weights (zero element equals shift)"
      ]
    },
    {
      "cell_type": "markdown",
      "metadata": {
        "id": "_-h263wTcv4Q"
      },
      "source": [
        "Predictions:\n",
        "\n",
        "$$\n",
        "a = Xw\n",
        "$$\n",
        "\n",
        "Learning Objective:\n",
        "\n",
        "$$\n",
        "w = \\arg\\min_w MSE(Xw, y)\n",
        "$$\n",
        "\n",
        "Training formula:\n",
        "\n",
        "$$\n",
        "w = (X^T X)^{-1} X^T y\n",
        "$$"
      ]
    },
    {
      "cell_type": "markdown",
      "metadata": {
        "id": "22uNRkDScv4Q"
      },
      "source": [
        "**Features are multiplied by an invertible matrix. Let's determine whether the quality of linear regression will change (it can be trained again).**"
      ]
    },
    {
      "cell_type": "markdown",
      "metadata": {
        "id": "WK_QaoJ8cv4R"
      },
      "source": [
        "$$\n",
        "w = (X^T X)^{-1} X^T y\n",
        "$$"
      ]
    },
    {
      "cell_type": "markdown",
      "metadata": {
        "id": "YDhvZKgrcv4R"
      },
      "source": [
        "**The quality of linear regression will not change.**\n",
        "\n",
        "**Rationale:**\n",
        "\n",
        "Because It is indicated that we are multiplying features by an invertible matrix, then based on the criterion of matrix invertibility we can conclude that the multiplication occurs by a square matrix.\n",
        "\n",
        "Second fact: the operation of multiplying two matrices is feasible only if the number of columns in the first factor is equal to the number of rows in the second; in this case the matrices are said to be consistent. This means that in our case, we can only allow multiplication of features by a square matrix, whose height and width are equal to the width (number of features) in the feature matrix.\n",
        "\n",
        "**Initial formula for training (vector of weights) and predictions:**\n",
        "\n",
        "$$\n",
        "w = (X^T X)^{-1} X^T y\n",
        "$$\n",
        "\n",
        "$$\n",
        "a = X w\n",
        "$$\n",
        "\n",
        "**Let's consider what will happen in the learning formula when multiplying the feature matrix by the square matrix P:**\n",
        "$$\n",
        "w_p = (X_p^T X_p)^{-1} X_p^T y\n",
        "$$\n",
        "\n",
        "**Where:** $ X_p = X P $\n",
        "\n",
        "$$\n",
        "w_p = ((X P)^T (X P))^{-1} (X P)^T y\n",
        "$$\n",
        "\n",
        "**Let's open the brackets of the expression above according to the rules of transformation with matrices, we get:**\n",
        "$$\n",
        "w_p = (P^T X^T X P)^{-1} (P^T X^T) y\n",
        "$$\n",
        "\n",
        "**In the expression above we group groups of products of matrices and individual matrices with brackets, we get:**\n",
        "$$\n",
        "w_p = ((P^T) (X^T X) (P))^{-1} P^T X^T y\n",
        "$$\n",
        "\n",
        "**Let’s open the brackets that appear under the “degree” (-1) in the expression above, according to the rules of transformation with matrices, we get:**\n",
        "$$\n",
        "w_p = P^{-1} (X^T X)^{-1} (P^T)^{-1} P^T X^T y\n",
        "$$\n",
        "\n",
        "**The product of the transposed matrix P by the inverse of the transposed one according to the properties of matrices gives the identity matrix E, multiplying another matrix by which we obtain a similar one. Therefore, we can simply shorten this, we get the following:**\n",
        "$$\n",
        "w_p = P^{-1} (X^T X)^{-1} X^T y\n",
        "$$\n",
        "\n",
        "**Now let’s write the formula for finding $a_p$ - predictions of the target feature:**\n",
        "$$\n",
        "a_p = X_p w_p\n",
        "$$\n",
        "\n",
        "**Substitute the expression for $w_p$ found above into this formula, we get:**\n",
        "$$\n",
        "a_p = (X P) (P^{-1} (X^T X)^{-1} X^T y)\n",
        "$$\n",
        "\n",
        "**Open the brackets in the expression above, we get:**\n",
        "$$\n",
        "a_p = X P P^{-1} (X^T X)^{-1} X^T y\n",
        "$$\n",
        "\n",
        "**The product of matrix P and its inverse, according to the properties of matrices, gives the identity matrix E, multiplying another matrix by which we obtain a similar one. Therefore, we can simply shorten this, we get the following:**\n",
        "$$\n",
        "a_p = X (X^T X)^{-1} X^T y = X w = a\n",
        "$$\n",
        "\n",
        "**Total received:**\n",
        "$$\n",
        "a_p = a\n",
        "$$\n",
        "\n",
        "**Which proves that the predictions will be similar in the case of multiplying features by an invertible matrix. CTD.**"
      ]
    },
    {
      "cell_type": "markdown",
      "metadata": {
        "id": "q1bP0bqAcv4R"
      },
      "source": [
        "## Conversion algorithm"
      ]
    },
    {
      "cell_type": "markdown",
      "metadata": {
        "id": "EzCW7WAlcv4R"
      },
      "source": [
        "**Algorithm**\n",
        "\n",
        "Based on the proof above, by multiplying features by an invertible matrix, we do not degrade the quality of linear regression.\n",
        "\n",
        "Invertibility criterion: a matrix is invertible if and only if it is non-degenerate, that is, its determinant is not equal to zero. For non-square matrices and singular matrices, there are no inverse matrices.\n",
        "\n",
        "Accordingly, it is necessary to generate a square matrix whose dimension coincides with the number of features in the source data and whose determinant is not equal to 0. In this case, the generated matrix should not be identity, otherwise, when multiplying the original feature matrix by it, we will obtain the same matrix and the data transformation will not happens, the data protection task will not fail.\n",
        "\n",
        "The algorithm can be written in a structured way as follows:\n",
        "1. Generate a random square matrix of size M x M, where M is the number of features in the original dataset.\n",
        "2. Check the generated matrix for invertibility by comparing its determinant with zero.\n",
        "3. Train a linear regression model using the original feature matrix.\n",
        "4. Using the trained model, we will predict the values of the target feature based on the initial features.\n",
        "5. Calculate the quality metric R2 for this trained linear regression model.\n",
        "6. Multiply the original matrix of features by the generated matrix, and call the resulting matrix a coded matrix of features.\n",
        "7. Let's retrain the linear regression model using the encoded feature matrix.\n",
        "8. Using the retrained model, we will predict the values of the target feature based on the encoded features.\n",
        "9. Let's calculate the quality metric R2 for the retrained linear regression model.\n",
        "10. Let’s compare the R2 metric of the original linear regression model and the model trained on encoded features."
      ]
    },
    {
      "cell_type": "markdown",
      "metadata": {
        "id": "BMP44L-Gcv4R"
      },
      "source": [
        "**Rationale**\n",
        "\n",
        "In Section 2, it was mathematically proven that multiplying a feature matrix by an invertible matrix does not change the prediction and, accordingly, does not degrade the quality of linear regression."
      ]
    },
    {
      "cell_type": "markdown",
      "metadata": {
        "id": "3OyVPQwqcv4S"
      },
      "source": [
        "## Algorithm check"
      ]
    },
    {
      "cell_type": "markdown",
      "metadata": {
        "id": "sblcWvb4cv4S"
      },
      "source": [
        "Let's program the algorithm using matrix operations. Next, let’s check that the quality of the linear regression from sklearn does not differ before and after the transformation. To do this, we apply the R2 metric."
      ]
    },
    {
      "cell_type": "code",
      "execution_count": null,
      "metadata": {
        "id": "t9XczqUWcv4S",
        "outputId": "e7148a67-0943-4921-cd72-a3b065707427"
      },
      "outputs": [
        {
          "name": "stdout",
          "output_type": "stream",
          "text": [
            "features.head before\n"
          ]
        },
        {
          "data": {
            "text/html": [
              "<div>\n",
              "<style scoped>\n",
              "    .dataframe tbody tr th:only-of-type {\n",
              "        vertical-align: middle;\n",
              "    }\n",
              "\n",
              "    .dataframe tbody tr th {\n",
              "        vertical-align: top;\n",
              "    }\n",
              "\n",
              "    .dataframe thead th {\n",
              "        text-align: right;\n",
              "    }\n",
              "</style>\n",
              "<table border=\"1\" class=\"dataframe\">\n",
              "  <thead>\n",
              "    <tr style=\"text-align: right;\">\n",
              "      <th></th>\n",
              "      <th>gender</th>\n",
              "      <th>age</th>\n",
              "      <th>salary</th>\n",
              "      <th>family_members</th>\n",
              "    </tr>\n",
              "  </thead>\n",
              "  <tbody>\n",
              "    <tr>\n",
              "      <th>0</th>\n",
              "      <td>1</td>\n",
              "      <td>41</td>\n",
              "      <td>49600</td>\n",
              "      <td>1</td>\n",
              "    </tr>\n",
              "    <tr>\n",
              "      <th>1</th>\n",
              "      <td>0</td>\n",
              "      <td>46</td>\n",
              "      <td>38000</td>\n",
              "      <td>1</td>\n",
              "    </tr>\n",
              "    <tr>\n",
              "      <th>2</th>\n",
              "      <td>0</td>\n",
              "      <td>29</td>\n",
              "      <td>21000</td>\n",
              "      <td>0</td>\n",
              "    </tr>\n",
              "    <tr>\n",
              "      <th>3</th>\n",
              "      <td>0</td>\n",
              "      <td>21</td>\n",
              "      <td>41700</td>\n",
              "      <td>2</td>\n",
              "    </tr>\n",
              "    <tr>\n",
              "      <th>4</th>\n",
              "      <td>1</td>\n",
              "      <td>28</td>\n",
              "      <td>26100</td>\n",
              "      <td>0</td>\n",
              "    </tr>\n",
              "  </tbody>\n",
              "</table>\n",
              "</div>"
            ],
            "text/plain": [
              "   gender  age  salary  family_members\n",
              "0       1   41   49600               1\n",
              "1       0   46   38000               1\n",
              "2       0   29   21000               0\n",
              "3       0   21   41700               2\n",
              "4       1   28   26100               0"
            ]
          },
          "metadata": {},
          "output_type": "display_data"
        },
        {
          "name": "stdout",
          "output_type": "stream",
          "text": [
            "R2 score before encryption = 0.4302010046633359\n",
            "\n",
            "\n",
            "\n",
            "encryption matrix\n",
            "[[0.26130595 0.65787401 0.29584038 0.76437669]\n",
            " [0.84355721 0.28586644 0.30151503 0.79294882]\n",
            " [0.19892611 0.5234803  0.79208387 0.71328965]\n",
            " [0.40760029 0.73508471 0.72627317 0.40646642]]\n",
            "\n",
            "\n",
            "\n",
            "features.head after encryption\n"
          ]
        },
        {
          "data": {
            "text/html": [
              "<div>\n",
              "<style scoped>\n",
              "    .dataframe tbody tr th:only-of-type {\n",
              "        vertical-align: middle;\n",
              "    }\n",
              "\n",
              "    .dataframe tbody tr th {\n",
              "        vertical-align: top;\n",
              "    }\n",
              "\n",
              "    .dataframe thead th {\n",
              "        text-align: right;\n",
              "    }\n",
              "</style>\n",
              "<table border=\"1\" class=\"dataframe\">\n",
              "  <thead>\n",
              "    <tr style=\"text-align: right;\">\n",
              "      <th></th>\n",
              "      <th>gender</th>\n",
              "      <th>age</th>\n",
              "      <th>salary</th>\n",
              "      <th>family_members</th>\n",
              "    </tr>\n",
              "  </thead>\n",
              "  <tbody>\n",
              "    <tr>\n",
              "      <th>0</th>\n",
              "      <td>9901.989821</td>\n",
              "      <td>25977.736450</td>\n",
              "      <td>39300.744049</td>\n",
              "      <td>35412.848431</td>\n",
              "    </tr>\n",
              "    <tr>\n",
              "      <th>1</th>\n",
              "      <td>7598.403422</td>\n",
              "      <td>19906.136408</td>\n",
              "      <td>30113.782923</td>\n",
              "      <td>27141.888848</td>\n",
              "    </tr>\n",
              "    <tr>\n",
              "      <th>2</th>\n",
              "      <td>4201.911475</td>\n",
              "      <td>11001.376464</td>\n",
              "      <td>16642.505150</td>\n",
              "      <td>15002.078186</td>\n",
              "    </tr>\n",
              "    <tr>\n",
              "      <th>3</th>\n",
              "      <td>8313.748700</td>\n",
              "      <td>21836.601948</td>\n",
              "      <td>33037.681629</td>\n",
              "      <td>29761.643302</td>\n",
              "    </tr>\n",
              "    <tr>\n",
              "      <th>4</th>\n",
              "      <td>5215.852386</td>\n",
              "      <td>13671.498010</td>\n",
              "      <td>20682.127198</td>\n",
              "      <td>18639.826833</td>\n",
              "    </tr>\n",
              "  </tbody>\n",
              "</table>\n",
              "</div>"
            ],
            "text/plain": [
              "        gender           age        salary  family_members\n",
              "0  9901.989821  25977.736450  39300.744049    35412.848431\n",
              "1  7598.403422  19906.136408  30113.782923    27141.888848\n",
              "2  4201.911475  11001.376464  16642.505150    15002.078186\n",
              "3  8313.748700  21836.601948  33037.681629    29761.643302\n",
              "4  5215.852386  13671.498010  20682.127198    18639.826833"
            ]
          },
          "metadata": {},
          "output_type": "display_data"
        },
        {
          "name": "stdout",
          "output_type": "stream",
          "text": [
            "R2 score after encryption = 0.43020100466333566\n",
            "\n",
            "\n",
            "\n",
            "r2_score difference: -2.220446049250313e-16\n"
          ]
        }
      ],
      "source": [
        "features = data.drop('insurance_claim', axis=1)\n",
        "print('features.head before')\n",
        "display(features.head())\n",
        "target = data['insurance_claim']\n",
        "model = LinearRegression()\n",
        "model.fit(features, target)\n",
        "predictions_before = model.predict(features)\n",
        "score_before = r2_score(target, predictions_before)\n",
        "print(f'R2 score before encryption = {score_before}')\n",
        "\n",
        "singular = lambda m: np.linalg.det(m) == 0 #check if the matrix determinant = 0\n",
        "P = np.random.random([features.shape[1],features.shape[1]]) #create square matrix with random elements from [0;1)\n",
        "if not singular(P):\n",
        "    features_encrypted = features.to_numpy() @ P # multiply initial features with the square random matrix\n",
        "    print('\\n\\n\\nencryption matrix')\n",
        "    print(P)\n",
        "    print('\\n\\n\\nfeatures.head after encryption')\n",
        "    display(pd.DataFrame(features_encrypted, columns = features.columns).head())\n",
        "    model.fit(features_encrypted, target)\n",
        "    predictions_after = model.predict(features_encrypted)\n",
        "    score_after = r2_score(target, predictions_after)\n",
        "    print(f'R2 score after encryption = {score_after}')\n",
        "    print('\\n\\n\\nr2_score difference:', score_after - score_before)"
      ]
    },
    {
      "cell_type": "markdown",
      "metadata": {
        "id": "VwLdBcZLcv4S"
      },
      "source": [
        "**The result obtained in the difference between two quality metrics is close to zero and proves that this encryption algorithm works correctly and does not degrade the quality of linear regression.**"
      ]
    },
    {
      "cell_type": "markdown",
      "metadata": {
        "id": "wpwk07YHcv4S"
      },
      "source": [
        "## Conclusion"
      ]
    },
    {
      "cell_type": "markdown",
      "metadata": {
        "id": "lXHs2LyZcv4S"
      },
      "source": [
        "**The original dataset consisted of 4 features and 1 target feature. 3% of all data duplicates were removed, the type of all features was changed to integer, the names of all features were converted to snake case and to the English version for ease of further work.**\n",
        "\n",
        "**It has been proven mathematically that multiplying the original feature matrix by an invertible matrix does not degrade the quality of the linear regression model, and in this way it is possible to encode the original feature values, because they are confidential information.**\n",
        "\n",
        "**Next, in practice, using the code, an example was demonstrated of how, when multiplying the original feature matrix by a random invertible matrix, we obtained the same value of the linear regression metric R2, retrained on these encoded features. It was shown that this encryption method does not degrade the quality of linear regression - the value of the R2 metrics was similar for both the model trained on the original features and the model trained on the encoded features - and, accordingly, this data encryption method can be used in work.**"
      ]
    }
  ],
  "metadata": {
    "ExecuteTimeLog": [
      {
        "duration": 1218,
        "start_time": "2023-02-19T14:38:44.009Z"
      },
      {
        "duration": 1316,
        "start_time": "2023-02-20T10:25:15.637Z"
      },
      {
        "duration": 997,
        "start_time": "2023-02-20T10:25:31.285Z"
      },
      {
        "duration": 35,
        "start_time": "2023-02-20T10:26:07.838Z"
      },
      {
        "duration": 57,
        "start_time": "2023-02-20T10:26:50.123Z"
      },
      {
        "duration": 52,
        "start_time": "2023-02-20T10:27:26.914Z"
      },
      {
        "duration": 5,
        "start_time": "2023-02-20T10:40:52.812Z"
      },
      {
        "duration": 16,
        "start_time": "2023-02-20T10:41:00.458Z"
      },
      {
        "duration": 13,
        "start_time": "2023-02-20T10:41:04.903Z"
      },
      {
        "duration": 10,
        "start_time": "2023-02-20T10:42:11.608Z"
      },
      {
        "duration": 15,
        "start_time": "2023-02-20T10:42:20.776Z"
      },
      {
        "duration": 59,
        "start_time": "2023-02-20T10:42:31.961Z"
      },
      {
        "duration": 9,
        "start_time": "2023-02-20T10:42:36.638Z"
      },
      {
        "duration": 8,
        "start_time": "2023-02-20T10:42:57.137Z"
      },
      {
        "duration": 14,
        "start_time": "2023-02-20T10:43:07.830Z"
      },
      {
        "duration": 70,
        "start_time": "2023-02-20T10:44:55.754Z"
      },
      {
        "duration": 10,
        "start_time": "2023-02-20T10:45:04.087Z"
      },
      {
        "duration": 15,
        "start_time": "2023-02-20T10:47:09.537Z"
      },
      {
        "duration": 16,
        "start_time": "2023-02-20T10:48:01.706Z"
      },
      {
        "duration": 14,
        "start_time": "2023-02-20T10:48:20.805Z"
      },
      {
        "duration": 21,
        "start_time": "2023-02-20T10:49:12.313Z"
      },
      {
        "duration": 18,
        "start_time": "2023-02-20T10:49:29.327Z"
      },
      {
        "duration": 23,
        "start_time": "2023-02-20T10:50:02.381Z"
      },
      {
        "duration": 15,
        "start_time": "2023-02-20T10:50:15.973Z"
      },
      {
        "duration": 100,
        "start_time": "2023-02-20T10:52:47.955Z"
      },
      {
        "duration": 13,
        "start_time": "2023-02-20T10:52:54.790Z"
      },
      {
        "duration": 14,
        "start_time": "2023-02-20T10:53:14.421Z"
      },
      {
        "duration": 20,
        "start_time": "2023-02-20T10:53:21.908Z"
      },
      {
        "duration": 15,
        "start_time": "2023-02-20T10:55:48.378Z"
      },
      {
        "duration": 12,
        "start_time": "2023-02-20T10:57:47.231Z"
      },
      {
        "duration": 6,
        "start_time": "2023-02-20T11:00:12.373Z"
      },
      {
        "duration": 6,
        "start_time": "2023-02-20T11:00:50.188Z"
      },
      {
        "duration": 86,
        "start_time": "2023-02-20T11:03:14.180Z"
      },
      {
        "duration": 23,
        "start_time": "2023-02-20T11:03:17.152Z"
      },
      {
        "duration": 6,
        "start_time": "2023-02-20T11:03:21.802Z"
      },
      {
        "duration": 79,
        "start_time": "2023-02-23T20:49:23.106Z"
      },
      {
        "duration": 1571,
        "start_time": "2023-02-23T20:49:26.973Z"
      },
      {
        "duration": 21,
        "start_time": "2023-02-23T20:49:34.794Z"
      },
      {
        "duration": 1354,
        "start_time": "2023-02-27T09:13:05.863Z"
      },
      {
        "duration": 12,
        "start_time": "2023-02-27T09:13:22.013Z"
      },
      {
        "duration": 1411,
        "start_time": "2023-03-15T13:24:52.269Z"
      },
      {
        "duration": 20,
        "start_time": "2023-03-15T13:24:59.476Z"
      },
      {
        "duration": 14,
        "start_time": "2023-03-15T13:31:09.392Z"
      },
      {
        "duration": 17,
        "start_time": "2023-03-15T13:34:00.002Z"
      },
      {
        "duration": 9,
        "start_time": "2023-03-15T13:44:50.390Z"
      },
      {
        "duration": 4,
        "start_time": "2023-03-15T13:56:37.851Z"
      },
      {
        "duration": 45,
        "start_time": "2023-03-15T22:14:10.891Z"
      },
      {
        "duration": 1203,
        "start_time": "2023-03-15T22:14:27.220Z"
      },
      {
        "duration": 14,
        "start_time": "2023-03-15T22:14:28.425Z"
      },
      {
        "duration": 42,
        "start_time": "2023-03-15T22:14:28.440Z"
      },
      {
        "duration": 151,
        "start_time": "2023-03-15T22:14:28.484Z"
      },
      {
        "duration": 56,
        "start_time": "2023-03-15T22:15:01.404Z"
      },
      {
        "duration": 47,
        "start_time": "2023-03-15T22:15:01.461Z"
      },
      {
        "duration": 31,
        "start_time": "2023-03-15T22:15:01.510Z"
      },
      {
        "duration": 168,
        "start_time": "2023-03-15T22:15:01.544Z"
      },
      {
        "duration": 1120,
        "start_time": "2023-03-15T22:24:36.515Z"
      },
      {
        "duration": 15,
        "start_time": "2023-03-15T22:24:42.809Z"
      },
      {
        "duration": 315,
        "start_time": "2023-03-15T22:24:57.275Z"
      },
      {
        "duration": 224,
        "start_time": "2023-03-15T22:27:55.461Z"
      },
      {
        "duration": 54,
        "start_time": "2023-03-15T22:28:11.034Z"
      },
      {
        "duration": 48,
        "start_time": "2023-03-15T22:28:38.854Z"
      },
      {
        "duration": 41,
        "start_time": "2023-03-15T22:28:46.654Z"
      },
      {
        "duration": 53,
        "start_time": "2023-03-15T22:29:01.534Z"
      },
      {
        "duration": 109,
        "start_time": "2023-03-15T22:29:15.379Z"
      },
      {
        "duration": 75,
        "start_time": "2023-03-15T22:29:34.508Z"
      },
      {
        "duration": 58,
        "start_time": "2023-03-15T22:29:44.126Z"
      },
      {
        "duration": 89,
        "start_time": "2023-03-15T22:30:03.994Z"
      },
      {
        "duration": 78,
        "start_time": "2023-03-15T22:30:11.006Z"
      },
      {
        "duration": 89,
        "start_time": "2023-03-15T22:30:20.694Z"
      },
      {
        "duration": 1556,
        "start_time": "2023-03-16T16:00:41.864Z"
      },
      {
        "duration": 17,
        "start_time": "2023-03-16T16:00:43.423Z"
      },
      {
        "duration": 64,
        "start_time": "2023-03-16T16:00:43.442Z"
      },
      {
        "duration": 1195,
        "start_time": "2023-03-16T18:05:25.115Z"
      },
      {
        "duration": 101,
        "start_time": "2023-03-16T18:05:28.747Z"
      },
      {
        "duration": 57,
        "start_time": "2023-03-16T18:05:58.008Z"
      },
      {
        "duration": 55,
        "start_time": "2023-03-16T18:09:23.891Z"
      },
      {
        "duration": 54,
        "start_time": "2023-03-16T18:09:32.172Z"
      },
      {
        "duration": 70,
        "start_time": "2023-03-16T18:09:50.464Z"
      },
      {
        "duration": 64,
        "start_time": "2023-03-16T18:10:46.479Z"
      },
      {
        "duration": 60,
        "start_time": "2023-03-16T18:11:07.423Z"
      },
      {
        "duration": 84,
        "start_time": "2023-03-16T18:11:32.944Z"
      },
      {
        "duration": 48,
        "start_time": "2023-03-16T20:10:44.298Z"
      },
      {
        "duration": 1093,
        "start_time": "2023-03-16T20:10:50.901Z"
      },
      {
        "duration": 160,
        "start_time": "2023-03-16T20:10:54.353Z"
      },
      {
        "duration": 11,
        "start_time": "2023-03-16T20:10:59.280Z"
      },
      {
        "duration": 13,
        "start_time": "2023-03-16T20:11:24.847Z"
      },
      {
        "duration": 212,
        "start_time": "2023-03-16T20:46:05.287Z"
      },
      {
        "duration": 176,
        "start_time": "2023-03-16T20:46:56.416Z"
      },
      {
        "duration": 112,
        "start_time": "2023-03-16T20:47:06.291Z"
      },
      {
        "duration": 134,
        "start_time": "2023-03-16T20:47:11.757Z"
      },
      {
        "duration": 149,
        "start_time": "2023-03-16T20:47:30.147Z"
      },
      {
        "duration": 73,
        "start_time": "2023-03-16T20:47:56.927Z"
      },
      {
        "duration": 849,
        "start_time": "2023-03-17T04:49:55.108Z"
      },
      {
        "duration": 139,
        "start_time": "2023-03-17T04:49:55.958Z"
      },
      {
        "duration": 11,
        "start_time": "2023-03-17T04:49:56.099Z"
      },
      {
        "duration": 21,
        "start_time": "2023-03-17T04:49:56.112Z"
      },
      {
        "duration": 160,
        "start_time": "2023-03-17T04:49:56.135Z"
      }
    ],
    "kernelspec": {
      "display_name": "Python 3 (ipykernel)",
      "language": "python",
      "name": "python3"
    },
    "language_info": {
      "codemirror_mode": {
        "name": "ipython",
        "version": 3
      },
      "file_extension": ".py",
      "mimetype": "text/x-python",
      "name": "python",
      "nbconvert_exporter": "python",
      "pygments_lexer": "ipython3",
      "version": "3.9.5"
    },
    "toc": {
      "base_numbering": 1,
      "nav_menu": {},
      "number_sections": true,
      "sideBar": true,
      "skip_h1_title": true,
      "title_cell": "Содержание",
      "title_sidebar": "Contents",
      "toc_cell": true,
      "toc_position": {},
      "toc_section_display": true,
      "toc_window_display": true
    },
    "colab": {
      "provenance": []
    }
  },
  "nbformat": 4,
  "nbformat_minor": 0
}